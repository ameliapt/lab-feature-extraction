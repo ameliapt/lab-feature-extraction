{
 "cells": [
  {
   "cell_type": "markdown",
   "id": "78a2485c",
   "metadata": {},
   "source": [
    "## Lab | Cleaning numerical data"
   ]
  },
  {
   "cell_type": "markdown",
   "id": "7d9b3917",
   "metadata": {},
   "source": [
    "Import the necessary libreries"
   ]
  },
  {
   "cell_type": "code",
   "execution_count": 1,
   "id": "c8b325e8",
   "metadata": {},
   "outputs": [],
   "source": [
    "import pandas as pd\n",
    "import numpy as np\n",
    "import matplotlib.pyplot as plt\n",
    "import seaborn as sns\n",
    "\n",
    "from sklearn.model_selection import train_test_split\n",
    "from sklearn.preprocessing import MinMaxScaler\n",
    "from sklearn.preprocessing import OneHotEncoder"
   ]
  },
  {
   "cell_type": "code",
   "execution_count": 2,
   "id": "7b2d984f",
   "metadata": {},
   "outputs": [],
   "source": [
    "pd.set_option('display.max_columns', None)\n",
    "customer_df = pd.read_csv('C:/Users/ameli/IRONHACK/WEEK_4/DAY_1/MORNING_SESSION/lab-cleaning-numerical-data/files_for_lab/we_fn_use_c_marketing_customer_value_analysis.csv')"
   ]
  },
  {
   "cell_type": "markdown",
   "id": "e09f4867",
   "metadata": {},
   "source": [
    "#### First look at its main features (head, shape, info)."
   ]
  },
  {
   "cell_type": "code",
   "execution_count": 3,
   "id": "d1b4ae79",
   "metadata": {},
   "outputs": [
    {
     "data": {
      "text/html": [
       "<div>\n",
       "<style scoped>\n",
       "    .dataframe tbody tr th:only-of-type {\n",
       "        vertical-align: middle;\n",
       "    }\n",
       "\n",
       "    .dataframe tbody tr th {\n",
       "        vertical-align: top;\n",
       "    }\n",
       "\n",
       "    .dataframe thead th {\n",
       "        text-align: right;\n",
       "    }\n",
       "</style>\n",
       "<table border=\"1\" class=\"dataframe\">\n",
       "  <thead>\n",
       "    <tr style=\"text-align: right;\">\n",
       "      <th></th>\n",
       "      <th>Customer</th>\n",
       "      <th>State</th>\n",
       "      <th>Customer Lifetime Value</th>\n",
       "      <th>Response</th>\n",
       "      <th>Coverage</th>\n",
       "      <th>Education</th>\n",
       "      <th>Effective To Date</th>\n",
       "      <th>EmploymentStatus</th>\n",
       "      <th>Gender</th>\n",
       "      <th>Income</th>\n",
       "      <th>Location Code</th>\n",
       "      <th>Marital Status</th>\n",
       "      <th>Monthly Premium Auto</th>\n",
       "      <th>Months Since Last Claim</th>\n",
       "      <th>Months Since Policy Inception</th>\n",
       "      <th>Number of Open Complaints</th>\n",
       "      <th>Number of Policies</th>\n",
       "      <th>Policy Type</th>\n",
       "      <th>Policy</th>\n",
       "      <th>Renew Offer Type</th>\n",
       "      <th>Sales Channel</th>\n",
       "      <th>Total Claim Amount</th>\n",
       "      <th>Vehicle Class</th>\n",
       "      <th>Vehicle Size</th>\n",
       "    </tr>\n",
       "  </thead>\n",
       "  <tbody>\n",
       "    <tr>\n",
       "      <th>0</th>\n",
       "      <td>BU79786</td>\n",
       "      <td>Washington</td>\n",
       "      <td>2763.519279</td>\n",
       "      <td>No</td>\n",
       "      <td>Basic</td>\n",
       "      <td>Bachelor</td>\n",
       "      <td>2/24/11</td>\n",
       "      <td>Employed</td>\n",
       "      <td>F</td>\n",
       "      <td>56274</td>\n",
       "      <td>Suburban</td>\n",
       "      <td>Married</td>\n",
       "      <td>69</td>\n",
       "      <td>32</td>\n",
       "      <td>5</td>\n",
       "      <td>0</td>\n",
       "      <td>1</td>\n",
       "      <td>Corporate Auto</td>\n",
       "      <td>Corporate L3</td>\n",
       "      <td>Offer1</td>\n",
       "      <td>Agent</td>\n",
       "      <td>384.811147</td>\n",
       "      <td>Two-Door Car</td>\n",
       "      <td>Medsize</td>\n",
       "    </tr>\n",
       "    <tr>\n",
       "      <th>1</th>\n",
       "      <td>QZ44356</td>\n",
       "      <td>Arizona</td>\n",
       "      <td>6979.535903</td>\n",
       "      <td>No</td>\n",
       "      <td>Extended</td>\n",
       "      <td>Bachelor</td>\n",
       "      <td>1/31/11</td>\n",
       "      <td>Unemployed</td>\n",
       "      <td>F</td>\n",
       "      <td>0</td>\n",
       "      <td>Suburban</td>\n",
       "      <td>Single</td>\n",
       "      <td>94</td>\n",
       "      <td>13</td>\n",
       "      <td>42</td>\n",
       "      <td>0</td>\n",
       "      <td>8</td>\n",
       "      <td>Personal Auto</td>\n",
       "      <td>Personal L3</td>\n",
       "      <td>Offer3</td>\n",
       "      <td>Agent</td>\n",
       "      <td>1131.464935</td>\n",
       "      <td>Four-Door Car</td>\n",
       "      <td>Medsize</td>\n",
       "    </tr>\n",
       "    <tr>\n",
       "      <th>2</th>\n",
       "      <td>AI49188</td>\n",
       "      <td>Nevada</td>\n",
       "      <td>12887.431650</td>\n",
       "      <td>No</td>\n",
       "      <td>Premium</td>\n",
       "      <td>Bachelor</td>\n",
       "      <td>2/19/11</td>\n",
       "      <td>Employed</td>\n",
       "      <td>F</td>\n",
       "      <td>48767</td>\n",
       "      <td>Suburban</td>\n",
       "      <td>Married</td>\n",
       "      <td>108</td>\n",
       "      <td>18</td>\n",
       "      <td>38</td>\n",
       "      <td>0</td>\n",
       "      <td>2</td>\n",
       "      <td>Personal Auto</td>\n",
       "      <td>Personal L3</td>\n",
       "      <td>Offer1</td>\n",
       "      <td>Agent</td>\n",
       "      <td>566.472247</td>\n",
       "      <td>Two-Door Car</td>\n",
       "      <td>Medsize</td>\n",
       "    </tr>\n",
       "    <tr>\n",
       "      <th>3</th>\n",
       "      <td>WW63253</td>\n",
       "      <td>California</td>\n",
       "      <td>7645.861827</td>\n",
       "      <td>No</td>\n",
       "      <td>Basic</td>\n",
       "      <td>Bachelor</td>\n",
       "      <td>1/20/11</td>\n",
       "      <td>Unemployed</td>\n",
       "      <td>M</td>\n",
       "      <td>0</td>\n",
       "      <td>Suburban</td>\n",
       "      <td>Married</td>\n",
       "      <td>106</td>\n",
       "      <td>18</td>\n",
       "      <td>65</td>\n",
       "      <td>0</td>\n",
       "      <td>7</td>\n",
       "      <td>Corporate Auto</td>\n",
       "      <td>Corporate L2</td>\n",
       "      <td>Offer1</td>\n",
       "      <td>Call Center</td>\n",
       "      <td>529.881344</td>\n",
       "      <td>SUV</td>\n",
       "      <td>Medsize</td>\n",
       "    </tr>\n",
       "    <tr>\n",
       "      <th>4</th>\n",
       "      <td>HB64268</td>\n",
       "      <td>Washington</td>\n",
       "      <td>2813.692575</td>\n",
       "      <td>No</td>\n",
       "      <td>Basic</td>\n",
       "      <td>Bachelor</td>\n",
       "      <td>2/3/11</td>\n",
       "      <td>Employed</td>\n",
       "      <td>M</td>\n",
       "      <td>43836</td>\n",
       "      <td>Rural</td>\n",
       "      <td>Single</td>\n",
       "      <td>73</td>\n",
       "      <td>12</td>\n",
       "      <td>44</td>\n",
       "      <td>0</td>\n",
       "      <td>1</td>\n",
       "      <td>Personal Auto</td>\n",
       "      <td>Personal L1</td>\n",
       "      <td>Offer1</td>\n",
       "      <td>Agent</td>\n",
       "      <td>138.130879</td>\n",
       "      <td>Four-Door Car</td>\n",
       "      <td>Medsize</td>\n",
       "    </tr>\n",
       "  </tbody>\n",
       "</table>\n",
       "</div>"
      ],
      "text/plain": [
       "  Customer       State  Customer Lifetime Value Response  Coverage Education  \\\n",
       "0  BU79786  Washington              2763.519279       No     Basic  Bachelor   \n",
       "1  QZ44356     Arizona              6979.535903       No  Extended  Bachelor   \n",
       "2  AI49188      Nevada             12887.431650       No   Premium  Bachelor   \n",
       "3  WW63253  California              7645.861827       No     Basic  Bachelor   \n",
       "4  HB64268  Washington              2813.692575       No     Basic  Bachelor   \n",
       "\n",
       "  Effective To Date EmploymentStatus Gender  Income Location Code  \\\n",
       "0           2/24/11         Employed      F   56274      Suburban   \n",
       "1           1/31/11       Unemployed      F       0      Suburban   \n",
       "2           2/19/11         Employed      F   48767      Suburban   \n",
       "3           1/20/11       Unemployed      M       0      Suburban   \n",
       "4            2/3/11         Employed      M   43836         Rural   \n",
       "\n",
       "  Marital Status  Monthly Premium Auto  Months Since Last Claim  \\\n",
       "0        Married                    69                       32   \n",
       "1         Single                    94                       13   \n",
       "2        Married                   108                       18   \n",
       "3        Married                   106                       18   \n",
       "4         Single                    73                       12   \n",
       "\n",
       "   Months Since Policy Inception  Number of Open Complaints  \\\n",
       "0                              5                          0   \n",
       "1                             42                          0   \n",
       "2                             38                          0   \n",
       "3                             65                          0   \n",
       "4                             44                          0   \n",
       "\n",
       "   Number of Policies     Policy Type        Policy Renew Offer Type  \\\n",
       "0                   1  Corporate Auto  Corporate L3           Offer1   \n",
       "1                   8   Personal Auto   Personal L3           Offer3   \n",
       "2                   2   Personal Auto   Personal L3           Offer1   \n",
       "3                   7  Corporate Auto  Corporate L2           Offer1   \n",
       "4                   1   Personal Auto   Personal L1           Offer1   \n",
       "\n",
       "  Sales Channel  Total Claim Amount  Vehicle Class Vehicle Size  \n",
       "0         Agent          384.811147   Two-Door Car      Medsize  \n",
       "1         Agent         1131.464935  Four-Door Car      Medsize  \n",
       "2         Agent          566.472247   Two-Door Car      Medsize  \n",
       "3   Call Center          529.881344            SUV      Medsize  \n",
       "4         Agent          138.130879  Four-Door Car      Medsize  "
      ]
     },
     "execution_count": 3,
     "metadata": {},
     "output_type": "execute_result"
    }
   ],
   "source": [
    "customer_df.head()"
   ]
  },
  {
   "cell_type": "code",
   "execution_count": 4,
   "id": "5d508727",
   "metadata": {},
   "outputs": [
    {
     "data": {
      "text/plain": [
       "(9134, 24)"
      ]
     },
     "execution_count": 4,
     "metadata": {},
     "output_type": "execute_result"
    }
   ],
   "source": [
    "customer_df.shape"
   ]
  },
  {
   "cell_type": "code",
   "execution_count": 5,
   "id": "b3f4b98d",
   "metadata": {},
   "outputs": [
    {
     "name": "stdout",
     "output_type": "stream",
     "text": [
      "<class 'pandas.core.frame.DataFrame'>\n",
      "RangeIndex: 9134 entries, 0 to 9133\n",
      "Data columns (total 24 columns):\n",
      " #   Column                         Non-Null Count  Dtype  \n",
      "---  ------                         --------------  -----  \n",
      " 0   Customer                       9134 non-null   object \n",
      " 1   State                          9134 non-null   object \n",
      " 2   Customer Lifetime Value        9134 non-null   float64\n",
      " 3   Response                       9134 non-null   object \n",
      " 4   Coverage                       9134 non-null   object \n",
      " 5   Education                      9134 non-null   object \n",
      " 6   Effective To Date              9134 non-null   object \n",
      " 7   EmploymentStatus               9134 non-null   object \n",
      " 8   Gender                         9134 non-null   object \n",
      " 9   Income                         9134 non-null   int64  \n",
      " 10  Location Code                  9134 non-null   object \n",
      " 11  Marital Status                 9134 non-null   object \n",
      " 12  Monthly Premium Auto           9134 non-null   int64  \n",
      " 13  Months Since Last Claim        9134 non-null   int64  \n",
      " 14  Months Since Policy Inception  9134 non-null   int64  \n",
      " 15  Number of Open Complaints      9134 non-null   int64  \n",
      " 16  Number of Policies             9134 non-null   int64  \n",
      " 17  Policy Type                    9134 non-null   object \n",
      " 18  Policy                         9134 non-null   object \n",
      " 19  Renew Offer Type               9134 non-null   object \n",
      " 20  Sales Channel                  9134 non-null   object \n",
      " 21  Total Claim Amount             9134 non-null   float64\n",
      " 22  Vehicle Class                  9134 non-null   object \n",
      " 23  Vehicle Size                   9134 non-null   object \n",
      "dtypes: float64(2), int64(6), object(16)\n",
      "memory usage: 1.7+ MB\n"
     ]
    }
   ],
   "source": [
    "customer_df.info()"
   ]
  },
  {
   "cell_type": "markdown",
   "id": "18386dfd",
   "metadata": {},
   "source": [
    "#### Rename the columns so they follow the PE8 (snake case) (lower_case_with_underscores)."
   ]
  },
  {
   "cell_type": "code",
   "execution_count": 6,
   "id": "928f684d",
   "metadata": {},
   "outputs": [
    {
     "name": "stdout",
     "output_type": "stream",
     "text": [
      "Index(['customer', 'state', 'customer_lifetime_value', 'response', 'coverage',\n",
      "       'education', 'effective_to_date', 'employment_status', 'gender',\n",
      "       'income', 'location_code', 'marital_status', 'monthly_premium_auto',\n",
      "       'months_since_last_claim', 'months_since_policy_inception',\n",
      "       'number_of_open_complaints', 'number_of_policies', 'policy_type',\n",
      "       'policy', 'renew_offer_type', 'sales_channel', 'total_claim_amount',\n",
      "       'vehicle_class', 'vehicle_size'],\n",
      "      dtype='object')\n"
     ]
    }
   ],
   "source": [
    "customer_df.columns = [header.lower().replace(' ', '_') for header in list(customer_df.columns)]\n",
    "customer_df = customer_df.rename(columns = {'employmentstatus': 'employment_status'})\n",
    "print(customer_df.columns)"
   ]
  },
  {
   "cell_type": "markdown",
   "id": "e58a761e",
   "metadata": {},
   "source": [
    "#### Change effective to date column to datetime format."
   ]
  },
  {
   "cell_type": "code",
   "execution_count": 7,
   "id": "34796c13",
   "metadata": {},
   "outputs": [
    {
     "name": "stdout",
     "output_type": "stream",
     "text": [
      "datetime64[ns]\n"
     ]
    }
   ],
   "source": [
    "customer_df['effective_to_date'] = pd.to_datetime(customer_df['effective_to_date'])\n",
    "print(customer_df['effective_to_date'].dtype)"
   ]
  },
  {
   "cell_type": "markdown",
   "id": "33a4cb87",
   "metadata": {},
   "source": [
    "#### Define a function that differentiates between continuous and discrete variables. Hint: The number of unique values might be useful. Store continuous data into a continuous_df variable and do the same for discrete_df"
   ]
  },
  {
   "cell_type": "code",
   "execution_count": 8,
   "id": "4688e48f",
   "metadata": {},
   "outputs": [],
   "source": [
    "numerical = customer_df.select_dtypes(include='number')\n",
    "categorical_df = customer_df.select_dtypes(include=object)"
   ]
  },
  {
   "cell_type": "code",
   "execution_count": 9,
   "id": "d0130748",
   "metadata": {},
   "outputs": [
    {
     "name": "stdout",
     "output_type": "stream",
     "text": [
      "Header names of numerical before splitting: ['customer_lifetime_value', 'income', 'monthly_premium_auto', 'months_since_last_claim', 'months_since_policy_inception', 'number_of_open_complaints', 'number_of_policies', 'total_claim_amount']\n"
     ]
    }
   ],
   "source": [
    "numerical_cols = list(numerical.columns)\n",
    "print('Header names of numerical before splitting:', \n",
    "      numerical_cols)"
   ]
  },
  {
   "cell_type": "code",
   "execution_count": 10,
   "id": "eabc8cf5",
   "metadata": {},
   "outputs": [],
   "source": [
    "def data_dicrete_and_continuous(df):\n",
    "    discrete_cols = []\n",
    "    continuous_cols = []\n",
    "    threshold = df.shape[0]*0.02\n",
    "\n",
    "    for i in df.columns:\n",
    "        unique_values = df[i].nunique()\n",
    "        if unique_values < threshold:\n",
    "            discrete_cols.append(i)\n",
    "        else:\n",
    "            continuous_cols.append(i)\n",
    "\n",
    "    return discrete_cols, continuous_cols"
   ]
  },
  {
   "cell_type": "code",
   "execution_count": 11,
   "id": "c4374f96",
   "metadata": {},
   "outputs": [
    {
     "name": "stdout",
     "output_type": "stream",
     "text": [
      "Discrete cols ['months_since_last_claim', 'months_since_policy_inception', 'number_of_open_complaints', 'number_of_policies']\n",
      "\n",
      "Continuous cols ['customer_lifetime_value', 'income', 'monthly_premium_auto', 'total_claim_amount']\n"
     ]
    }
   ],
   "source": [
    "discrete, continuous = data_dicrete_and_continuous(numerical)\n",
    "print('Discrete cols', discrete)\n",
    "print('')\n",
    "print('Continuous cols', continuous)"
   ]
  },
  {
   "cell_type": "markdown",
   "id": "d50411c6",
   "metadata": {},
   "source": [
    "#### Plot a correlation matrix, comment what you see."
   ]
  },
  {
   "cell_type": "code",
   "execution_count": 12,
   "id": "7ef9c66d",
   "metadata": {},
   "outputs": [
    {
     "data": {
      "text/html": [
       "<div>\n",
       "<style scoped>\n",
       "    .dataframe tbody tr th:only-of-type {\n",
       "        vertical-align: middle;\n",
       "    }\n",
       "\n",
       "    .dataframe tbody tr th {\n",
       "        vertical-align: top;\n",
       "    }\n",
       "\n",
       "    .dataframe thead th {\n",
       "        text-align: right;\n",
       "    }\n",
       "</style>\n",
       "<table border=\"1\" class=\"dataframe\">\n",
       "  <thead>\n",
       "    <tr style=\"text-align: right;\">\n",
       "      <th></th>\n",
       "      <th>customer_lifetime_value</th>\n",
       "      <th>income</th>\n",
       "      <th>monthly_premium_auto</th>\n",
       "      <th>months_since_last_claim</th>\n",
       "      <th>months_since_policy_inception</th>\n",
       "      <th>number_of_open_complaints</th>\n",
       "      <th>number_of_policies</th>\n",
       "      <th>total_claim_amount</th>\n",
       "    </tr>\n",
       "  </thead>\n",
       "  <tbody>\n",
       "    <tr>\n",
       "      <th>customer_lifetime_value</th>\n",
       "      <td>1.000000</td>\n",
       "      <td>0.024366</td>\n",
       "      <td>0.396262</td>\n",
       "      <td>0.011517</td>\n",
       "      <td>0.009418</td>\n",
       "      <td>-0.036343</td>\n",
       "      <td>0.021955</td>\n",
       "      <td>0.226451</td>\n",
       "    </tr>\n",
       "    <tr>\n",
       "      <th>income</th>\n",
       "      <td>0.024366</td>\n",
       "      <td>1.000000</td>\n",
       "      <td>-0.016665</td>\n",
       "      <td>-0.026715</td>\n",
       "      <td>-0.000875</td>\n",
       "      <td>0.006408</td>\n",
       "      <td>-0.008656</td>\n",
       "      <td>-0.355254</td>\n",
       "    </tr>\n",
       "    <tr>\n",
       "      <th>monthly_premium_auto</th>\n",
       "      <td>0.396262</td>\n",
       "      <td>-0.016665</td>\n",
       "      <td>1.000000</td>\n",
       "      <td>0.005026</td>\n",
       "      <td>0.020257</td>\n",
       "      <td>-0.013122</td>\n",
       "      <td>-0.011233</td>\n",
       "      <td>0.632017</td>\n",
       "    </tr>\n",
       "    <tr>\n",
       "      <th>months_since_last_claim</th>\n",
       "      <td>0.011517</td>\n",
       "      <td>-0.026715</td>\n",
       "      <td>0.005026</td>\n",
       "      <td>1.000000</td>\n",
       "      <td>-0.042959</td>\n",
       "      <td>0.005354</td>\n",
       "      <td>0.009136</td>\n",
       "      <td>0.007563</td>\n",
       "    </tr>\n",
       "    <tr>\n",
       "      <th>months_since_policy_inception</th>\n",
       "      <td>0.009418</td>\n",
       "      <td>-0.000875</td>\n",
       "      <td>0.020257</td>\n",
       "      <td>-0.042959</td>\n",
       "      <td>1.000000</td>\n",
       "      <td>-0.001158</td>\n",
       "      <td>-0.013333</td>\n",
       "      <td>0.003335</td>\n",
       "    </tr>\n",
       "    <tr>\n",
       "      <th>number_of_open_complaints</th>\n",
       "      <td>-0.036343</td>\n",
       "      <td>0.006408</td>\n",
       "      <td>-0.013122</td>\n",
       "      <td>0.005354</td>\n",
       "      <td>-0.001158</td>\n",
       "      <td>1.000000</td>\n",
       "      <td>0.001498</td>\n",
       "      <td>-0.014241</td>\n",
       "    </tr>\n",
       "    <tr>\n",
       "      <th>number_of_policies</th>\n",
       "      <td>0.021955</td>\n",
       "      <td>-0.008656</td>\n",
       "      <td>-0.011233</td>\n",
       "      <td>0.009136</td>\n",
       "      <td>-0.013333</td>\n",
       "      <td>0.001498</td>\n",
       "      <td>1.000000</td>\n",
       "      <td>-0.002354</td>\n",
       "    </tr>\n",
       "    <tr>\n",
       "      <th>total_claim_amount</th>\n",
       "      <td>0.226451</td>\n",
       "      <td>-0.355254</td>\n",
       "      <td>0.632017</td>\n",
       "      <td>0.007563</td>\n",
       "      <td>0.003335</td>\n",
       "      <td>-0.014241</td>\n",
       "      <td>-0.002354</td>\n",
       "      <td>1.000000</td>\n",
       "    </tr>\n",
       "  </tbody>\n",
       "</table>\n",
       "</div>"
      ],
      "text/plain": [
       "                               customer_lifetime_value    income  \\\n",
       "customer_lifetime_value                       1.000000  0.024366   \n",
       "income                                        0.024366  1.000000   \n",
       "monthly_premium_auto                          0.396262 -0.016665   \n",
       "months_since_last_claim                       0.011517 -0.026715   \n",
       "months_since_policy_inception                 0.009418 -0.000875   \n",
       "number_of_open_complaints                    -0.036343  0.006408   \n",
       "number_of_policies                            0.021955 -0.008656   \n",
       "total_claim_amount                            0.226451 -0.355254   \n",
       "\n",
       "                               monthly_premium_auto  months_since_last_claim  \\\n",
       "customer_lifetime_value                    0.396262                 0.011517   \n",
       "income                                    -0.016665                -0.026715   \n",
       "monthly_premium_auto                       1.000000                 0.005026   \n",
       "months_since_last_claim                    0.005026                 1.000000   \n",
       "months_since_policy_inception              0.020257                -0.042959   \n",
       "number_of_open_complaints                 -0.013122                 0.005354   \n",
       "number_of_policies                        -0.011233                 0.009136   \n",
       "total_claim_amount                         0.632017                 0.007563   \n",
       "\n",
       "                               months_since_policy_inception  \\\n",
       "customer_lifetime_value                             0.009418   \n",
       "income                                             -0.000875   \n",
       "monthly_premium_auto                                0.020257   \n",
       "months_since_last_claim                            -0.042959   \n",
       "months_since_policy_inception                       1.000000   \n",
       "number_of_open_complaints                          -0.001158   \n",
       "number_of_policies                                 -0.013333   \n",
       "total_claim_amount                                  0.003335   \n",
       "\n",
       "                               number_of_open_complaints  number_of_policies  \\\n",
       "customer_lifetime_value                        -0.036343            0.021955   \n",
       "income                                          0.006408           -0.008656   \n",
       "monthly_premium_auto                           -0.013122           -0.011233   \n",
       "months_since_last_claim                         0.005354            0.009136   \n",
       "months_since_policy_inception                  -0.001158           -0.013333   \n",
       "number_of_open_complaints                       1.000000            0.001498   \n",
       "number_of_policies                              0.001498            1.000000   \n",
       "total_claim_amount                             -0.014241           -0.002354   \n",
       "\n",
       "                               total_claim_amount  \n",
       "customer_lifetime_value                  0.226451  \n",
       "income                                  -0.355254  \n",
       "monthly_premium_auto                     0.632017  \n",
       "months_since_last_claim                  0.007563  \n",
       "months_since_policy_inception            0.003335  \n",
       "number_of_open_complaints               -0.014241  \n",
       "number_of_policies                      -0.002354  \n",
       "total_claim_amount                       1.000000  "
      ]
     },
     "execution_count": 12,
     "metadata": {},
     "output_type": "execute_result"
    }
   ],
   "source": [
    "matrix_correlation = numerical.corr()\n",
    "matrix_correlation"
   ]
  },
  {
   "cell_type": "code",
   "execution_count": 13,
   "id": "a7df7ef5",
   "metadata": {},
   "outputs": [
    {
     "data": {
      "image/png": "[encoded data removed]",
      "text/plain": [
       "<Figure size 720x576 with 2 Axes>"
      ]
     },
     "metadata": {
      "needs_background": "light"
     },
     "output_type": "display_data"
    }
   ],
   "source": [
    "fig, ax = plt.subplots(figsize=(10,8))\n",
    "sns.heatmap(matrix_correlation, annot=True)\n",
    "plt.show()"
   ]
  },
  {
   "cell_type": "markdown",
   "id": "cec804fd",
   "metadata": {},
   "source": [
    "Comment: All the correlations higher than 0.20 -highlighted on the heatmap above- correspond to continuous features:\n",
    "\n",
    "- There's a positive and moderate correlation (0.63) between total_claim_amount and monthly_premium_amount.\n",
    "- There's also a positive and moderate correlation (0.4) between monthly_premium_auto and customer_lifetime_value.\n",
    "- Features income and total_claim_amount show a weak and negative correlation (-0.36), while the coefficient between total_claim_amount and customer_lifetime_value indicates a weak -but positive- correlation (0.23)."
   ]
  },
  {
   "cell_type": "markdown",
   "id": "ad818465",
   "metadata": {},
   "source": [
    "#### Create a function to plot every discrete variable. Do the same with the continuous variables (Be Careful, you may need to change the plot type to one better suited for continuous data!)"
   ]
  },
  {
   "cell_type": "code",
   "execution_count": 14,
   "id": "c42a7bbc",
   "metadata": {},
   "outputs": [
    {
     "data": {
      "image/png": "[encoded data removed]",
      "text/plain": [
       "<Figure size 360x360 with 1 Axes>"
      ]
     },
     "metadata": {
      "needs_background": "light"
     },
     "output_type": "display_data"
    },
    {
     "data": {
      "image/png": "[encoded data removed]",
      "text/plain": [
       "<Figure size 360x360 with 1 Axes>"
      ]
     },
     "metadata": {
      "needs_background": "light"
     },
     "output_type": "display_data"
    },
    {
     "data": {
      "image/png": "[encoded data removed]",
      "text/plain": [
       "<Figure size 360x360 with 1 Axes>"
      ]
     },
     "metadata": {
      "needs_background": "light"
     },
     "output_type": "display_data"
    },
    {
     "data": {
      "image/png": "[encoded data removed]",
      "text/plain": [
       "<Figure size 360x360 with 1 Axes>"
      ]
     },
     "metadata": {
      "needs_background": "light"
     },
     "output_type": "display_data"
    }
   ],
   "source": [
    "for col in numerical[discrete]:\n",
    "    sns.displot(numerical[col])\n",
    "    plt.show()"
   ]
  },
  {
   "cell_type": "code",
   "execution_count": 15,
   "id": "f3f81efa",
   "metadata": {},
   "outputs": [
    {
     "data": {
      "image/png": "[encoded data removed]",
      "text/plain": [
       "<Figure size 432x288 with 1 Axes>"
      ]
     },
     "metadata": {
      "needs_background": "light"
     },
     "output_type": "display_data"
    },
    {
     "data": {
      "image/png": "[encoded data removed]",
      "text/plain": [
       "<Figure size 432x288 with 1 Axes>"
      ]
     },
     "metadata": {
      "needs_background": "light"
     },
     "output_type": "display_data"
    },
    {
     "data": {
      "image/png": "[encoded data removed]",
      "text/plain": [
       "<Figure size 432x288 with 1 Axes>"
      ]
     },
     "metadata": {
      "needs_background": "light"
     },
     "output_type": "display_data"
    },
    {
     "data": {
      "image/png": "[encoded data removed]",
      "text/plain": [
       "<Figure size 432x288 with 1 Axes>"
      ]
     },
     "metadata": {
      "needs_background": "light"
     },
     "output_type": "display_data"
    }
   ],
   "source": [
    "for col in numerical[continuous]:\n",
    "    sns.histplot(numerical[col])\n",
    "    plt.show()"
   ]
  },
  {
   "cell_type": "markdown",
   "id": "1a6313ed",
   "metadata": {},
   "source": [
    "The plots for discrete data show that, although the data from these columns are being considered numerical, an option would be to transform them into categorical features.\n",
    "\n",
    "The plots for continuous columns show data heavily skewed, so it would be wise to look for outliers and decide what to do with tails. Also, it is not efficient to keep these plots if we want to obtain useful information, we could also consider binning the data."
   ]
  },
  {
   "cell_type": "markdown",
   "id": "b91386bb",
   "metadata": {},
   "source": [
    "#### Look for outliers in the continuous variables. (HINT: There’s a good plot to do that!)"
   ]
  },
  {
   "cell_type": "code",
   "execution_count": 16,
   "id": "dfad6afb",
   "metadata": {},
   "outputs": [
    {
     "data": {
      "image/png": "[encoded data removed]",
      "text/plain": [
       "<Figure size 432x288 with 1 Axes>"
      ]
     },
     "metadata": {
      "needs_background": "light"
     },
     "output_type": "display_data"
    },
    {
     "data": {
      "image/png": "[encoded data removed]",
      "text/plain": [
       "<Figure size 432x288 with 1 Axes>"
      ]
     },
     "metadata": {
      "needs_background": "light"
     },
     "output_type": "display_data"
    },
    {
     "data": {
      "image/png": "[encoded data removed]",
      "text/plain": [
       "<Figure size 432x288 with 1 Axes>"
      ]
     },
     "metadata": {
      "needs_background": "light"
     },
     "output_type": "display_data"
    },
    {
     "data": {
      "image/png": "[encoded data removed]",
      "text/plain": [
       "<Figure size 432x288 with 1 Axes>"
      ]
     },
     "metadata": {
      "needs_background": "light"
     },
     "output_type": "display_data"
    }
   ],
   "source": [
    "for col in numerical[continuous]:\n",
    "    sns.boxplot(x = numerical[col])\n",
    "    plt.show()"
   ]
  },
  {
   "cell_type": "markdown",
   "id": "12eedc1d",
   "metadata": {},
   "source": [
    "Data suggest that columns total_claim_amount and customer_lifetime_value contain outliers. Also, together with monthly_premium_auto, the three columns present long tails."
   ]
  },
  {
   "cell_type": "markdown",
   "id": "948b32fd",
   "metadata": {},
   "source": [
    "#### Did you find outliers? Comment what you will do with them.\n",
    "\n",
    "Yes, I did. First, I am going to identify those outliers and, depending on the number of values, I'll decide later whether I'll drop them."
   ]
  },
  {
   "cell_type": "code",
   "execution_count": 17,
   "id": "3e2feb4e",
   "metadata": {},
   "outputs": [
    {
     "name": "stdout",
     "output_type": "stream",
     "text": [
      "Number of outliers of total_claim_amount: 453\n",
      "% Outliers: 4.959492007882636\n"
     ]
    }
   ],
   "source": [
    "# How many outliers do our data present?\n",
    "\n",
    "# TCA\n",
    "iqr_tca = np.nanpercentile(numerical['total_claim_amount'],75) - np.nanpercentile(numerical['total_claim_amount'],25)\n",
    "upper_limit_tca = np.nanpercentile(numerical['total_claim_amount'],75) + 1.5*iqr_tca\n",
    "tca_outliers = numerical[numerical['total_claim_amount'] >= upper_limit_tca]\n",
    "print('Number of outliers of total_claim_amount:', \n",
    "      len(tca_outliers))\n",
    "print('% Outliers:', \n",
    "      (len(tca_outliers) / customer_df.shape[0])*100)"
   ]
  },
  {
   "cell_type": "code",
   "execution_count": 18,
   "id": "4f694b5d",
   "metadata": {},
   "outputs": [
    {
     "name": "stdout",
     "output_type": "stream",
     "text": [
      "Number of outliers of customer_lifetime_value: 817\n",
      "% Outliers: 8.944602583753012\n"
     ]
    }
   ],
   "source": [
    "# Customer_lifetime_value\n",
    "iqr_clv = np.nanpercentile(numerical['customer_lifetime_value'],75) - np.nanpercentile(numerical['customer_lifetime_value'],25)\n",
    "upper_limit_clv = np.nanpercentile(numerical['customer_lifetime_value'],75) + 1.5*iqr_clv\n",
    "clv_outliers = numerical[numerical['customer_lifetime_value'] >= upper_limit_clv]\n",
    "\n",
    "print('Number of outliers of customer_lifetime_value:', len(clv_outliers))\n",
    "print('% Outliers:', (len(clv_outliers) / customer_df.shape[0])*100)"
   ]
  },
  {
   "cell_type": "markdown",
   "id": "8e38810d",
   "metadata": {},
   "source": [
    "We're going to apply log transformation before droping these outliers."
   ]
  },
  {
   "cell_type": "code",
   "execution_count": 19,
   "id": "347f57e1",
   "metadata": {},
   "outputs": [],
   "source": [
    "numerical['tca_LOG'] = np.log(numerical['total_claim_amount'])\n",
    "numerical['tca_LOG'] = numerical['tca_LOG'].fillna(np.mean(numerical['tca_LOG']))\n",
    "                                                                                    \n",
    "numerical['clv_LOG'] = np.log(numerical['customer_lifetime_value'])\n",
    "numerical['clv_LOG'] = numerical['clv_LOG'].fillna(np.mean(numerical['clv_LOG']))"
   ]
  },
  {
   "cell_type": "code",
   "execution_count": 20,
   "id": "4350ba84",
   "metadata": {},
   "outputs": [
    {
     "data": {
      "image/png": "[encoded data removed]",
      "text/plain": [
       "<Figure size 936x360 with 2 Axes>"
      ]
     },
     "metadata": {
      "needs_background": "light"
     },
     "output_type": "display_data"
    }
   ],
   "source": [
    "# Plotting data after log transformation\n",
    "fig, ax = plt.subplots(1,2, figsize = (13,5))\n",
    "sns.histplot(numerical['tca_LOG'], ax = ax[0])\n",
    "sns.histplot(numerical['clv_LOG'], ax = ax[1])   \n",
    "plt.show()"
   ]
  },
  {
   "cell_type": "code",
   "execution_count": 21,
   "id": "332e3b67",
   "metadata": {},
   "outputs": [],
   "source": [
    "# Now let's check how many outliers our columns have"
   ]
  },
  {
   "cell_type": "code",
   "execution_count": 22,
   "id": "3293dc68",
   "metadata": {},
   "outputs": [
    {
     "name": "stdout",
     "output_type": "stream",
     "text": [
      "Number of outliers of tca_log: 901\n",
      "% Outliers: 9.864243485876942\n"
     ]
    }
   ],
   "source": [
    "iqr_tca_log = np.nanpercentile(numerical['tca_LOG'],75) - np.nanpercentile(numerical['tca_LOG'],25)\n",
    "upper_limit = np.nanpercentile(numerical['tca_LOG'],75) + 1.5*iqr_tca_log\n",
    "lower_limit = np.nanpercentile(numerical['tca_LOG'],25) - 1.5*iqr_tca_log\n",
    "tca_outliers_log = numerical[(numerical['tca_LOG'] >= upper_limit) | (numerical['tca_LOG'] <= lower_limit)]\n",
    "print('Number of outliers of tca_log:', \n",
    "      len(tca_outliers_log))\n",
    "print('% Outliers:', \n",
    "      (len(tca_outliers_log) / customer_df.shape[0])*100)"
   ]
  },
  {
   "cell_type": "code",
   "execution_count": 23,
   "id": "66de1de7",
   "metadata": {},
   "outputs": [
    {
     "name": "stdout",
     "output_type": "stream",
     "text": [
      "Number of outliers of clv_LOG: 304\n",
      "% Outliers: 3.328224217210422\n"
     ]
    }
   ],
   "source": [
    "iqr_clv_log = np.nanpercentile(numerical['clv_LOG'],75) - np.nanpercentile(numerical['clv_LOG'],25)\n",
    "upper_limit_tcalog = np.nanpercentile(numerical['clv_LOG'],75) + 1.5*iqr_tca_log\n",
    "lower_limit_tcalog = np.nanpercentile(numerical['clv_LOG'],25) - 1.5*iqr_tca_log\n",
    "clv_outliers_log = numerical[(numerical['clv_LOG'] >= upper_limit_tcalog) | (numerical['clv_LOG'] <= lower_limit_tcalog)\n",
    "                            ]\n",
    "print('Number of outliers of clv_LOG:', len(clv_outliers_log))\n",
    "print('% Outliers:', (len(clv_outliers_log) / customer_df.shape[0])*100)"
   ]
  },
  {
   "cell_type": "markdown",
   "id": "b9bac531",
   "metadata": {},
   "source": [
    "As the number of CLV outliers decreased, the number of TCA outliers increased. Let's go one step back and drop them. "
   ]
  },
  {
   "cell_type": "code",
   "execution_count": 24,
   "id": "cc962b05",
   "metadata": {},
   "outputs": [
    {
     "data": {
      "image/png": "[encoded data removed]",
      "text/plain": [
       "<Figure size 504x720 with 2 Axes>"
      ]
     },
     "metadata": {
      "needs_background": "light"
     },
     "output_type": "display_data"
    }
   ],
   "source": [
    "# Drop cols recently created for log transformation\n",
    "numerical = numerical.drop(['tca_LOG', 'clv_LOG'], axis=1)\n",
    "\n",
    "tca_outliers_dropped = numerical[numerical['total_claim_amount'] <= upper_limit_tca].copy()\n",
    "fig, ax = plt.subplots(2, figsize = (7,10))\n",
    "sns.histplot(x = tca_outliers_dropped['total_claim_amount'], ax = ax[0])\n",
    "sns.boxplot(x = tca_outliers_dropped['total_claim_amount'], ax = ax[1])\n",
    "\n",
    "plt.show()"
   ]
  },
  {
   "cell_type": "code",
   "execution_count": 25,
   "id": "87c45ee2",
   "metadata": {
    "scrolled": true
   },
   "outputs": [
    {
     "data": {
      "image/png": "[encoded data removed]",
      "text/plain": [
       "<Figure size 504x720 with 2 Axes>"
      ]
     },
     "metadata": {
      "needs_background": "light"
     },
     "output_type": "display_data"
    }
   ],
   "source": [
    "clv_outliers_dropped = numerical[numerical['customer_lifetime_value'] <= upper_limit_clv].copy()\n",
    "fig, ax = plt.subplots(2, figsize = (7,10))\n",
    "sns.histplot(x = clv_outliers_dropped['customer_lifetime_value'], ax = ax[0])\n",
    "sns.boxplot(x = clv_outliers_dropped['customer_lifetime_value'], ax = ax[1])\n",
    "\n",
    "plt.show()"
   ]
  },
  {
   "cell_type": "markdown",
   "id": "2abe675a",
   "metadata": {},
   "source": [
    "There are still some extreme values on both columns, but the number of outliers has decreased substantially. "
   ]
  },
  {
   "cell_type": "markdown",
   "id": "6ea70bd4",
   "metadata": {},
   "source": [
    "## Cleaning categorical data"
   ]
  },
  {
   "cell_type": "markdown",
   "id": "04bb719c",
   "metadata": {},
   "source": [
    "Find all of the categorical data. Save it in a categorical_df variable --> **Already done**"
   ]
  },
  {
   "cell_type": "markdown",
   "id": "37e4239f",
   "metadata": {},
   "source": [
    "#### Check for NaN values."
   ]
  },
  {
   "cell_type": "code",
   "execution_count": 26,
   "id": "40bdc521",
   "metadata": {},
   "outputs": [
    {
     "data": {
      "text/plain": [
       "customer             0\n",
       "state                0\n",
       "response             0\n",
       "coverage             0\n",
       "education            0\n",
       "employment_status    0\n",
       "gender               0\n",
       "location_code        0\n",
       "marital_status       0\n",
       "policy_type          0\n",
       "policy               0\n",
       "renew_offer_type     0\n",
       "sales_channel        0\n",
       "vehicle_class        0\n",
       "vehicle_size         0\n",
       "dtype: int64"
      ]
     },
     "execution_count": 26,
     "metadata": {},
     "output_type": "execute_result"
    }
   ],
   "source": [
    "categorical_df.isna().sum()"
   ]
  },
  {
   "cell_type": "code",
   "execution_count": 27,
   "id": "70f0f229",
   "metadata": {},
   "outputs": [
    {
     "name": "stdout",
     "output_type": "stream",
     "text": [
      "customer             9134\n",
      "state                   5\n",
      "response                2\n",
      "coverage                3\n",
      "education               5\n",
      "employment_status       5\n",
      "gender                  2\n",
      "location_code           3\n",
      "marital_status          3\n",
      "policy_type             3\n",
      "policy                  9\n",
      "renew_offer_type        4\n",
      "sales_channel           4\n",
      "vehicle_class           6\n",
      "vehicle_size            3\n",
      "dtype: int64\n",
      "\n",
      "[['Washington', 'Arizona', 'Nevada', 'California', 'Oregon'], ['No', 'Yes'], ['Basic', 'Extended', 'Premium'], ['Bachelor', 'College', 'Master', 'High School or Below', 'Doctor'], ['Employed', 'Unemployed', 'Medical Leave', 'Disabled', 'Retired'], ['F', 'M'], ['Suburban', 'Rural', 'Urban'], ['Married', 'Single', 'Divorced'], ['Corporate Auto', 'Personal Auto', 'Special Auto'], ['Corporate L3', 'Personal L3', 'Corporate L2', 'Personal L1', 'Special L2', 'Corporate L1', 'Personal L2', 'Special L1', 'Special L3'], ['Offer1', 'Offer3', 'Offer2', 'Offer4'], ['Agent', 'Call Center', 'Web', 'Branch'], ['Two-Door Car', 'Four-Door Car', 'SUV', 'Luxury SUV', 'Sports Car', 'Luxury Car'], ['Medsize', 'Small', 'Large']]\n"
     ]
    }
   ],
   "source": [
    "num_unique_val = categorical_df.nunique()\n",
    "unique_val_cols = [categorical_df[x].unique().tolist() for x in categorical_df]\n",
    "\n",
    "print(num_unique_val)\n",
    "print('')\n",
    "#Not displaying unique values for customer (ID)\n",
    "print(unique_val_cols[1:15]) "
   ]
  },
  {
   "cell_type": "markdown",
   "id": "57b9150a",
   "metadata": {},
   "source": [
    "#### Check dtypes. Do they all make sense as categorical data?"
   ]
  },
  {
   "cell_type": "code",
   "execution_count": 28,
   "id": "fb754569",
   "metadata": {},
   "outputs": [
    {
     "data": {
      "text/plain": [
       "customer             object\n",
       "state                object\n",
       "response             object\n",
       "coverage             object\n",
       "education            object\n",
       "employment_status    object\n",
       "gender               object\n",
       "location_code        object\n",
       "marital_status       object\n",
       "policy_type          object\n",
       "policy               object\n",
       "renew_offer_type     object\n",
       "sales_channel        object\n",
       "vehicle_class        object\n",
       "vehicle_size         object\n",
       "dtype: object"
      ]
     },
     "execution_count": 28,
     "metadata": {},
     "output_type": "execute_result"
    }
   ],
   "source": [
    "categorical_df.dtypes"
   ]
  },
  {
   "cell_type": "markdown",
   "id": "62516300",
   "metadata": {},
   "source": [
    "Not really. Column customer identifies each customer as if it were an ID (all values are unique). Besides, we're not going to use this column to make predictions so we can drop it."
   ]
  },
  {
   "cell_type": "code",
   "execution_count": 29,
   "id": "292afb2b",
   "metadata": {},
   "outputs": [],
   "source": [
    "categorical_df = categorical_df.drop(['customer'], axis = 1)"
   ]
  },
  {
   "cell_type": "markdown",
   "id": "79dad11a",
   "metadata": {},
   "source": [
    "#### Does any column contain alpha and numeric data? Decide how to clean it."
   ]
  },
  {
   "cell_type": "markdown",
   "id": "29c47ca9",
   "metadata": {},
   "source": [
    "If I had not decided to drop the first column (customer), I guess I could check whether deleting the first two letters of each cell would translate into having duplicate values. If this were not the case, I could clean it this way. "
   ]
  },
  {
   "cell_type": "markdown",
   "id": "739410d8",
   "metadata": {},
   "source": [
    "#### Would you choose to do anything else to clean or wrangle the categorical data? Comment your decisions."
   ]
  },
  {
   "cell_type": "markdown",
   "id": "a7a774f9",
   "metadata": {},
   "source": [
    "- State: leave it as it is. \n",
    "- Response: OneHotEncoder\n",
    "- Coverage: ordinal encoding \n",
    "- Education: Combine 'master' and 'doctor' over 'Other high level studies' and ordinal encoding \n",
    "- Employment_status: combine Unemployed with Medical Leave and Disabled and ordinal encoding \n",
    "- Gender: OneHotEncoder\n",
    "- Location_code: Ordinal encoding\n",
    "- Marital_status: OneHotEncoder\n",
    "- policy_type: drop column   \n",
    "- policy: OneHotEncoder           \n",
    "- renew_offer_type: OneHotEncoder\n",
    "- sales_channel: OneHotEncoder     \n",
    "- vehicle_class: Combine luxury car + Luxury SUV + sport car over 'Luxury_Car' and ordinal encoding\n",
    "- vehicle_size: ordinal encoding"
   ]
  },
  {
   "cell_type": "markdown",
   "id": "c9576a76",
   "metadata": {},
   "source": [
    "#### Compare policy_type and policy. What information is contained in these columns. Can you identify what is important?"
   ]
  },
  {
   "cell_type": "code",
   "execution_count": 30,
   "id": "966ef720",
   "metadata": {},
   "outputs": [
    {
     "name": "stdout",
     "output_type": "stream",
     "text": [
      "Personal L3     3426\n",
      "Personal L2     2122\n",
      "Personal L1     1240\n",
      "Corporate L3    1014\n",
      "Corporate L2     595\n",
      "Corporate L1     359\n",
      "Special L2       164\n",
      "Special L3       148\n",
      "Special L1        66\n",
      "Name: policy, dtype: int64\n",
      "\n",
      "Personal Auto     6788\n",
      "Corporate Auto    1968\n",
      "Special Auto       378\n",
      "Name: policy_type, dtype: int64\n"
     ]
    }
   ],
   "source": [
    "print(categorical_df['policy'].value_counts())\n",
    "print('')\n",
    "print(categorical_df['policy_type'].value_counts())"
   ]
  },
  {
   "cell_type": "markdown",
   "id": "61dce26e",
   "metadata": {},
   "source": [
    "*Policy type contains redundant information already stored on 'Policy'. As mentioned before, to reduce the complexity of the model, I would drop this column. Also, the data counts displayed suggest that Special policy is underrepresented (class imbalance). Maybe we could consider droping these rows.*"
   ]
  },
  {
   "cell_type": "markdown",
   "id": "9953cde0",
   "metadata": {},
   "source": [
    "#### Check number of unique values in each column, can they be combined in any way to ease encoding? Comment your thoughts and make those changes."
   ]
  },
  {
   "cell_type": "code",
   "execution_count": 31,
   "id": "65aee590",
   "metadata": {},
   "outputs": [
    {
     "name": "stdout",
     "output_type": "stream",
     "text": [
      "Unique values: ['Basic' 'Extended' 'Premium']\n",
      "Unique values: Basic       5568\n",
      "Extended    2742\n",
      "Premium      824\n",
      "Name: coverage, dtype: int64 \n",
      "\n",
      "Unique values: [0.  0.5 1. ]\n",
      "Unique values: 0.0    5568\n",
      "0.5    2742\n",
      "1.0     824\n",
      "Name: coverage, dtype: int64\n"
     ]
    }
   ],
   "source": [
    "# Droping policy_type column\n",
    "categorical_df = categorical_df.drop(['policy_type'], axis = 1)\n",
    "\n",
    "# COVERAGE\n",
    "print('Unique values:', categorical_df['coverage'].unique())\n",
    "print('Unique values:', categorical_df['coverage'].value_counts(), '\\n')\n",
    "\n",
    "# Manually encoding\n",
    "categorical_df['coverage'] = categorical_df['coverage'].replace({'Basic': 0, \n",
    "                                                                 'Extended': 0.5,\n",
    "                                                                 'Premium':1})\n",
    "\n",
    "\n",
    "print('Unique values:', categorical_df['coverage'].unique())\n",
    "print('Unique values:', categorical_df['coverage'].value_counts())\n"
   ]
  },
  {
   "cell_type": "code",
   "execution_count": 32,
   "id": "9998cde4",
   "metadata": {},
   "outputs": [
    {
     "name": "stdout",
     "output_type": "stream",
     "text": [
      "Unique values: ['Bachelor' 'College' 'Master' 'High School or Below' 'Doctor']\n",
      "Unique values: Bachelor                2748\n",
      "College                 2681\n",
      "High School or Below    2622\n",
      "Master                   741\n",
      "Doctor                   342\n",
      "Name: education, dtype: int64 \n",
      "\n",
      "Unique values: [0.66 0.33 1.   0.  ]\n",
      "Unique values: 0.66    2748\n",
      "0.33    2681\n",
      "0.00    2622\n",
      "1.00    1083\n",
      "Name: education, dtype: int64 \n",
      "\n"
     ]
    }
   ],
   "source": [
    "# EDUCATION\n",
    "print('Unique values:', categorical_df['education'].unique())\n",
    "print('Unique values:', categorical_df['education'].value_counts(), '\\n')\n",
    "\n",
    "def combine(x):\n",
    "    if 'Master' in x or 'Doctor' in x:\n",
    "        return 'Post uni'\n",
    "    else:\n",
    "        return x\n",
    "\n",
    "categorical_df[\"education\"] = categorical_df[\"education\"].apply(combine)\n",
    "categorical_df[\"education\"] = categorical_df[\"education\"].replace({'High School or Below': 0,\n",
    "                                                                  'College': 0.33,\n",
    "                                                                  'Bachelor': 0.66,\n",
    "                                                                  'Post uni': 1})\n",
    "\n",
    "\n",
    "print('Unique values:', categorical_df['education'].unique())\n",
    "print('Unique values:', categorical_df['education'].value_counts(), '\\n')"
   ]
  },
  {
   "cell_type": "code",
   "execution_count": 33,
   "id": "1f3c97d1",
   "metadata": {},
   "outputs": [
    {
     "name": "stdout",
     "output_type": "stream",
     "text": [
      "Unique values: ['Employed' 'Unemployed' 'Medical Leave' 'Disabled' 'Retired']\n",
      "Unique values: Employed         5698\n",
      "Unemployed       2317\n",
      "Medical Leave     432\n",
      "Disabled          405\n",
      "Retired           282\n",
      "Name: employment_status, dtype: int64 \n",
      "\n",
      "Unique values: [1.  0.  0.5]\n",
      "Unique values: 1.0    5698\n",
      "0.0    3154\n",
      "0.5     282\n",
      "Name: employment_status, dtype: int64 \n",
      "\n"
     ]
    }
   ],
   "source": [
    "# EMPLOYMENT STATUS\n",
    "print('Unique values:', categorical_df['employment_status'].unique())\n",
    "print('Unique values:', categorical_df['employment_status'].value_counts(), '\\n')\n",
    "\n",
    "def combine_employmentstatus(x):\n",
    "    if x in ['Medical Leave', 'Disabled']:\n",
    "        return 'Unemployed'\n",
    "    else:\n",
    "        return x\n",
    "\n",
    "categorical_df[\"employment_status\"] = categorical_df[\"employment_status\"].apply(combine_employmentstatus)\n",
    "\n",
    "categorical_df['employment_status'] = categorical_df['employment_status'].replace({'Unemployed': 0, \n",
    "                                                             'Retired': 0.5,\n",
    "                                                             'Employed': 1})\n",
    "\n",
    "print('Unique values:', categorical_df['employment_status'].unique())\n",
    "print('Unique values:', categorical_df['employment_status'].value_counts(), '\\n')"
   ]
  },
  {
   "cell_type": "code",
   "execution_count": 34,
   "id": "a887e465",
   "metadata": {},
   "outputs": [
    {
     "name": "stdout",
     "output_type": "stream",
     "text": [
      "Unique values: ['Suburban' 'Rural' 'Urban']\n",
      "Unique values: Suburban    5779\n",
      "Rural       1773\n",
      "Urban       1582\n",
      "Name: location_code, dtype: int64 \n",
      "\n",
      "Unique values: [0.5 0.  1. ]\n",
      "Unique values: 0.5    5779\n",
      "0.0    1773\n",
      "1.0    1582\n",
      "Name: location_code, dtype: int64 \n",
      "\n"
     ]
    }
   ],
   "source": [
    "# LOCATION CODE\n",
    "print('Unique values:', categorical_df['location_code'].unique())\n",
    "print('Unique values:', categorical_df['location_code'].value_counts(), '\\n')\n",
    "\n",
    "categorical_df['location_code'] = categorical_df['location_code'].replace({'Rural': 0, \n",
    "                                                             'Suburban': 0.5,\n",
    "                                                             'Urban': 1})\n",
    "print('Unique values:', categorical_df['location_code'].unique())\n",
    "print('Unique values:', categorical_df['location_code'].value_counts(), '\\n')"
   ]
  },
  {
   "cell_type": "code",
   "execution_count": 35,
   "id": "6f569d04",
   "metadata": {},
   "outputs": [
    {
     "name": "stdout",
     "output_type": "stream",
     "text": [
      "Unique values: ['Medsize' 'Small' 'Large']\n",
      "Unique values: Medsize    6424\n",
      "Small      1764\n",
      "Large       946\n",
      "Name: vehicle_size, dtype: int64 \n",
      "\n",
      "Unique values: [0.5 0.  1. ]\n",
      "Unique values: 0.5    6424\n",
      "0.0    1764\n",
      "1.0     946\n",
      "Name: vehicle_size, dtype: int64 \n",
      "\n"
     ]
    }
   ],
   "source": [
    "# VEHICLE SIZE\n",
    "print('Unique values:', categorical_df['vehicle_size'].unique())\n",
    "print('Unique values:', categorical_df['vehicle_size'].value_counts(), '\\n')\n",
    "\n",
    "categorical_df['vehicle_size'] = categorical_df['vehicle_size'].replace({\"Small\" : 0, \n",
    "                                                                         \"Medsize\" :0.5, \n",
    "                                                                         \"Large\" : 1,})\n",
    "print('Unique values:', categorical_df['vehicle_size'].unique())\n",
    "print('Unique values:', categorical_df['vehicle_size'].value_counts(), '\\n')"
   ]
  },
  {
   "cell_type": "code",
   "execution_count": 36,
   "id": "e7eeb93e",
   "metadata": {},
   "outputs": [
    {
     "name": "stdout",
     "output_type": "stream",
     "text": [
      "Unique values: ['Two-Door Car' 'Four-Door Car' 'SUV' 'Luxury SUV' 'Sports Car'\n",
      " 'Luxury Car']\n",
      "Unique values: Four-Door Car    4621\n",
      "Two-Door Car     1886\n",
      "SUV              1796\n",
      "Sports Car        484\n",
      "Luxury SUV        184\n",
      "Luxury Car        163\n",
      "Name: vehicle_class, dtype: int64 \n",
      "\n",
      "Unique values: [0.   0.33 0.66 1.  ]\n",
      "Unique values: 0.33    4621\n",
      "0.00    1886\n",
      "0.66    1796\n",
      "1.00     831\n",
      "Name: vehicle_class, dtype: int64 \n",
      "\n"
     ]
    }
   ],
   "source": [
    "# VEHICLE CLASS\n",
    "print('Unique values:', categorical_df['vehicle_class'].unique())\n",
    "print('Unique values:', categorical_df['vehicle_class'].value_counts(), '\\n')\n",
    "\n",
    "['Two-Door Car', 'Four-Door Car', 'SUV', 'Luxury SUV', 'Sports Car', 'Luxury Car']\n",
    "\n",
    "categorical_df['vehicle_class'] = categorical_df['vehicle_class'].replace({'Two-Door Car':0,\n",
    "                                                                           'Four-Door Car':0.33, \n",
    "                                                                           'SUV':0.66,\n",
    "                                                                           'Luxury SUV':1,\n",
    "                                                                           'Sports Car':1,\n",
    "                                                                           'Luxury Car':1,})\n",
    "print('Unique values:', categorical_df['vehicle_class'].unique())\n",
    "print('Unique values:', categorical_df['vehicle_class'].value_counts(), '\\n')"
   ]
  },
  {
   "cell_type": "code",
   "execution_count": 37,
   "id": "82cf8803",
   "metadata": {},
   "outputs": [
    {
     "name": "stderr",
     "output_type": "stream",
     "text": [
      "C:\\Users\\ameli\\anaconda3\\lib\\site-packages\\sklearn\\utils\\deprecation.py:87: FutureWarning: Function get_feature_names is deprecated; get_feature_names is deprecated in 1.0 and will be removed in 1.2. Please use get_feature_names_out instead.\n",
      "  warnings.warn(msg, category=FutureWarning)\n"
     ]
    },
    {
     "data": {
      "text/html": [
       "<div>\n",
       "<style scoped>\n",
       "    .dataframe tbody tr th:only-of-type {\n",
       "        vertical-align: middle;\n",
       "    }\n",
       "\n",
       "    .dataframe tbody tr th {\n",
       "        vertical-align: top;\n",
       "    }\n",
       "\n",
       "    .dataframe thead th {\n",
       "        text-align: right;\n",
       "    }\n",
       "</style>\n",
       "<table border=\"1\" class=\"dataframe\">\n",
       "  <thead>\n",
       "    <tr style=\"text-align: right;\">\n",
       "      <th></th>\n",
       "      <th>state_California</th>\n",
       "      <th>state_Nevada</th>\n",
       "      <th>state_Oregon</th>\n",
       "      <th>state_Washington</th>\n",
       "      <th>response_Yes</th>\n",
       "      <th>gender_M</th>\n",
       "      <th>marital_status_Married</th>\n",
       "      <th>marital_status_Single</th>\n",
       "      <th>policy_Corporate L2</th>\n",
       "      <th>policy_Corporate L3</th>\n",
       "      <th>policy_Personal L1</th>\n",
       "      <th>policy_Personal L2</th>\n",
       "      <th>policy_Personal L3</th>\n",
       "      <th>policy_Special L1</th>\n",
       "      <th>policy_Special L2</th>\n",
       "      <th>policy_Special L3</th>\n",
       "      <th>renew_offer_type_Offer2</th>\n",
       "      <th>renew_offer_type_Offer3</th>\n",
       "      <th>renew_offer_type_Offer4</th>\n",
       "      <th>sales_channel_Branch</th>\n",
       "      <th>sales_channel_Call Center</th>\n",
       "      <th>sales_channel_Web</th>\n",
       "    </tr>\n",
       "  </thead>\n",
       "  <tbody>\n",
       "    <tr>\n",
       "      <th>0</th>\n",
       "      <td>0.0</td>\n",
       "      <td>0.0</td>\n",
       "      <td>0.0</td>\n",
       "      <td>1.0</td>\n",
       "      <td>0.0</td>\n",
       "      <td>0.0</td>\n",
       "      <td>1.0</td>\n",
       "      <td>0.0</td>\n",
       "      <td>0.0</td>\n",
       "      <td>1.0</td>\n",
       "      <td>0.0</td>\n",
       "      <td>0.0</td>\n",
       "      <td>0.0</td>\n",
       "      <td>0.0</td>\n",
       "      <td>0.0</td>\n",
       "      <td>0.0</td>\n",
       "      <td>0.0</td>\n",
       "      <td>0.0</td>\n",
       "      <td>0.0</td>\n",
       "      <td>0.0</td>\n",
       "      <td>0.0</td>\n",
       "      <td>0.0</td>\n",
       "    </tr>\n",
       "    <tr>\n",
       "      <th>1</th>\n",
       "      <td>0.0</td>\n",
       "      <td>0.0</td>\n",
       "      <td>0.0</td>\n",
       "      <td>0.0</td>\n",
       "      <td>0.0</td>\n",
       "      <td>0.0</td>\n",
       "      <td>0.0</td>\n",
       "      <td>1.0</td>\n",
       "      <td>0.0</td>\n",
       "      <td>0.0</td>\n",
       "      <td>0.0</td>\n",
       "      <td>0.0</td>\n",
       "      <td>1.0</td>\n",
       "      <td>0.0</td>\n",
       "      <td>0.0</td>\n",
       "      <td>0.0</td>\n",
       "      <td>0.0</td>\n",
       "      <td>1.0</td>\n",
       "      <td>0.0</td>\n",
       "      <td>0.0</td>\n",
       "      <td>0.0</td>\n",
       "      <td>0.0</td>\n",
       "    </tr>\n",
       "    <tr>\n",
       "      <th>2</th>\n",
       "      <td>0.0</td>\n",
       "      <td>1.0</td>\n",
       "      <td>0.0</td>\n",
       "      <td>0.0</td>\n",
       "      <td>0.0</td>\n",
       "      <td>0.0</td>\n",
       "      <td>1.0</td>\n",
       "      <td>0.0</td>\n",
       "      <td>0.0</td>\n",
       "      <td>0.0</td>\n",
       "      <td>0.0</td>\n",
       "      <td>0.0</td>\n",
       "      <td>1.0</td>\n",
       "      <td>0.0</td>\n",
       "      <td>0.0</td>\n",
       "      <td>0.0</td>\n",
       "      <td>0.0</td>\n",
       "      <td>0.0</td>\n",
       "      <td>0.0</td>\n",
       "      <td>0.0</td>\n",
       "      <td>0.0</td>\n",
       "      <td>0.0</td>\n",
       "    </tr>\n",
       "    <tr>\n",
       "      <th>3</th>\n",
       "      <td>1.0</td>\n",
       "      <td>0.0</td>\n",
       "      <td>0.0</td>\n",
       "      <td>0.0</td>\n",
       "      <td>0.0</td>\n",
       "      <td>1.0</td>\n",
       "      <td>1.0</td>\n",
       "      <td>0.0</td>\n",
       "      <td>1.0</td>\n",
       "      <td>0.0</td>\n",
       "      <td>0.0</td>\n",
       "      <td>0.0</td>\n",
       "      <td>0.0</td>\n",
       "      <td>0.0</td>\n",
       "      <td>0.0</td>\n",
       "      <td>0.0</td>\n",
       "      <td>0.0</td>\n",
       "      <td>0.0</td>\n",
       "      <td>0.0</td>\n",
       "      <td>0.0</td>\n",
       "      <td>1.0</td>\n",
       "      <td>0.0</td>\n",
       "    </tr>\n",
       "    <tr>\n",
       "      <th>4</th>\n",
       "      <td>0.0</td>\n",
       "      <td>0.0</td>\n",
       "      <td>0.0</td>\n",
       "      <td>1.0</td>\n",
       "      <td>0.0</td>\n",
       "      <td>1.0</td>\n",
       "      <td>0.0</td>\n",
       "      <td>1.0</td>\n",
       "      <td>0.0</td>\n",
       "      <td>0.0</td>\n",
       "      <td>1.0</td>\n",
       "      <td>0.0</td>\n",
       "      <td>0.0</td>\n",
       "      <td>0.0</td>\n",
       "      <td>0.0</td>\n",
       "      <td>0.0</td>\n",
       "      <td>0.0</td>\n",
       "      <td>0.0</td>\n",
       "      <td>0.0</td>\n",
       "      <td>0.0</td>\n",
       "      <td>0.0</td>\n",
       "      <td>0.0</td>\n",
       "    </tr>\n",
       "    <tr>\n",
       "      <th>...</th>\n",
       "      <td>...</td>\n",
       "      <td>...</td>\n",
       "      <td>...</td>\n",
       "      <td>...</td>\n",
       "      <td>...</td>\n",
       "      <td>...</td>\n",
       "      <td>...</td>\n",
       "      <td>...</td>\n",
       "      <td>...</td>\n",
       "      <td>...</td>\n",
       "      <td>...</td>\n",
       "      <td>...</td>\n",
       "      <td>...</td>\n",
       "      <td>...</td>\n",
       "      <td>...</td>\n",
       "      <td>...</td>\n",
       "      <td>...</td>\n",
       "      <td>...</td>\n",
       "      <td>...</td>\n",
       "      <td>...</td>\n",
       "      <td>...</td>\n",
       "      <td>...</td>\n",
       "    </tr>\n",
       "    <tr>\n",
       "      <th>9129</th>\n",
       "      <td>1.0</td>\n",
       "      <td>0.0</td>\n",
       "      <td>0.0</td>\n",
       "      <td>0.0</td>\n",
       "      <td>0.0</td>\n",
       "      <td>1.0</td>\n",
       "      <td>1.0</td>\n",
       "      <td>0.0</td>\n",
       "      <td>0.0</td>\n",
       "      <td>0.0</td>\n",
       "      <td>1.0</td>\n",
       "      <td>0.0</td>\n",
       "      <td>0.0</td>\n",
       "      <td>0.0</td>\n",
       "      <td>0.0</td>\n",
       "      <td>0.0</td>\n",
       "      <td>1.0</td>\n",
       "      <td>0.0</td>\n",
       "      <td>0.0</td>\n",
       "      <td>0.0</td>\n",
       "      <td>0.0</td>\n",
       "      <td>1.0</td>\n",
       "    </tr>\n",
       "    <tr>\n",
       "      <th>9130</th>\n",
       "      <td>1.0</td>\n",
       "      <td>0.0</td>\n",
       "      <td>0.0</td>\n",
       "      <td>0.0</td>\n",
       "      <td>1.0</td>\n",
       "      <td>0.0</td>\n",
       "      <td>0.0</td>\n",
       "      <td>0.0</td>\n",
       "      <td>0.0</td>\n",
       "      <td>1.0</td>\n",
       "      <td>0.0</td>\n",
       "      <td>0.0</td>\n",
       "      <td>0.0</td>\n",
       "      <td>0.0</td>\n",
       "      <td>0.0</td>\n",
       "      <td>0.0</td>\n",
       "      <td>0.0</td>\n",
       "      <td>0.0</td>\n",
       "      <td>0.0</td>\n",
       "      <td>1.0</td>\n",
       "      <td>0.0</td>\n",
       "      <td>0.0</td>\n",
       "    </tr>\n",
       "    <tr>\n",
       "      <th>9131</th>\n",
       "      <td>1.0</td>\n",
       "      <td>0.0</td>\n",
       "      <td>0.0</td>\n",
       "      <td>0.0</td>\n",
       "      <td>0.0</td>\n",
       "      <td>1.0</td>\n",
       "      <td>0.0</td>\n",
       "      <td>1.0</td>\n",
       "      <td>1.0</td>\n",
       "      <td>0.0</td>\n",
       "      <td>0.0</td>\n",
       "      <td>0.0</td>\n",
       "      <td>0.0</td>\n",
       "      <td>0.0</td>\n",
       "      <td>0.0</td>\n",
       "      <td>0.0</td>\n",
       "      <td>0.0</td>\n",
       "      <td>0.0</td>\n",
       "      <td>0.0</td>\n",
       "      <td>1.0</td>\n",
       "      <td>0.0</td>\n",
       "      <td>0.0</td>\n",
       "    </tr>\n",
       "    <tr>\n",
       "      <th>9132</th>\n",
       "      <td>1.0</td>\n",
       "      <td>0.0</td>\n",
       "      <td>0.0</td>\n",
       "      <td>0.0</td>\n",
       "      <td>0.0</td>\n",
       "      <td>1.0</td>\n",
       "      <td>1.0</td>\n",
       "      <td>0.0</td>\n",
       "      <td>0.0</td>\n",
       "      <td>0.0</td>\n",
       "      <td>0.0</td>\n",
       "      <td>1.0</td>\n",
       "      <td>0.0</td>\n",
       "      <td>0.0</td>\n",
       "      <td>0.0</td>\n",
       "      <td>0.0</td>\n",
       "      <td>0.0</td>\n",
       "      <td>1.0</td>\n",
       "      <td>0.0</td>\n",
       "      <td>1.0</td>\n",
       "      <td>0.0</td>\n",
       "      <td>0.0</td>\n",
       "    </tr>\n",
       "    <tr>\n",
       "      <th>9133</th>\n",
       "      <td>1.0</td>\n",
       "      <td>0.0</td>\n",
       "      <td>0.0</td>\n",
       "      <td>0.0</td>\n",
       "      <td>0.0</td>\n",
       "      <td>1.0</td>\n",
       "      <td>0.0</td>\n",
       "      <td>1.0</td>\n",
       "      <td>0.0</td>\n",
       "      <td>1.0</td>\n",
       "      <td>0.0</td>\n",
       "      <td>0.0</td>\n",
       "      <td>0.0</td>\n",
       "      <td>0.0</td>\n",
       "      <td>0.0</td>\n",
       "      <td>0.0</td>\n",
       "      <td>0.0</td>\n",
       "      <td>0.0</td>\n",
       "      <td>1.0</td>\n",
       "      <td>0.0</td>\n",
       "      <td>1.0</td>\n",
       "      <td>0.0</td>\n",
       "    </tr>\n",
       "  </tbody>\n",
       "</table>\n",
       "<p>9134 rows × 22 columns</p>\n",
       "</div>"
      ],
      "text/plain": [
       "      state_California  state_Nevada  state_Oregon  state_Washington  \\\n",
       "0                  0.0           0.0           0.0               1.0   \n",
       "1                  0.0           0.0           0.0               0.0   \n",
       "2                  0.0           1.0           0.0               0.0   \n",
       "3                  1.0           0.0           0.0               0.0   \n",
       "4                  0.0           0.0           0.0               1.0   \n",
       "...                ...           ...           ...               ...   \n",
       "9129               1.0           0.0           0.0               0.0   \n",
       "9130               1.0           0.0           0.0               0.0   \n",
       "9131               1.0           0.0           0.0               0.0   \n",
       "9132               1.0           0.0           0.0               0.0   \n",
       "9133               1.0           0.0           0.0               0.0   \n",
       "\n",
       "      response_Yes  gender_M  marital_status_Married  marital_status_Single  \\\n",
       "0              0.0       0.0                     1.0                    0.0   \n",
       "1              0.0       0.0                     0.0                    1.0   \n",
       "2              0.0       0.0                     1.0                    0.0   \n",
       "3              0.0       1.0                     1.0                    0.0   \n",
       "4              0.0       1.0                     0.0                    1.0   \n",
       "...            ...       ...                     ...                    ...   \n",
       "9129           0.0       1.0                     1.0                    0.0   \n",
       "9130           1.0       0.0                     0.0                    0.0   \n",
       "9131           0.0       1.0                     0.0                    1.0   \n",
       "9132           0.0       1.0                     1.0                    0.0   \n",
       "9133           0.0       1.0                     0.0                    1.0   \n",
       "\n",
       "      policy_Corporate L2  policy_Corporate L3  policy_Personal L1  \\\n",
       "0                     0.0                  1.0                 0.0   \n",
       "1                     0.0                  0.0                 0.0   \n",
       "2                     0.0                  0.0                 0.0   \n",
       "3                     1.0                  0.0                 0.0   \n",
       "4                     0.0                  0.0                 1.0   \n",
       "...                   ...                  ...                 ...   \n",
       "9129                  0.0                  0.0                 1.0   \n",
       "9130                  0.0                  1.0                 0.0   \n",
       "9131                  1.0                  0.0                 0.0   \n",
       "9132                  0.0                  0.0                 0.0   \n",
       "9133                  0.0                  1.0                 0.0   \n",
       "\n",
       "      policy_Personal L2  policy_Personal L3  policy_Special L1  \\\n",
       "0                    0.0                 0.0                0.0   \n",
       "1                    0.0                 1.0                0.0   \n",
       "2                    0.0                 1.0                0.0   \n",
       "3                    0.0                 0.0                0.0   \n",
       "4                    0.0                 0.0                0.0   \n",
       "...                  ...                 ...                ...   \n",
       "9129                 0.0                 0.0                0.0   \n",
       "9130                 0.0                 0.0                0.0   \n",
       "9131                 0.0                 0.0                0.0   \n",
       "9132                 1.0                 0.0                0.0   \n",
       "9133                 0.0                 0.0                0.0   \n",
       "\n",
       "      policy_Special L2  policy_Special L3  renew_offer_type_Offer2  \\\n",
       "0                   0.0                0.0                      0.0   \n",
       "1                   0.0                0.0                      0.0   \n",
       "2                   0.0                0.0                      0.0   \n",
       "3                   0.0                0.0                      0.0   \n",
       "4                   0.0                0.0                      0.0   \n",
       "...                 ...                ...                      ...   \n",
       "9129                0.0                0.0                      1.0   \n",
       "9130                0.0                0.0                      0.0   \n",
       "9131                0.0                0.0                      0.0   \n",
       "9132                0.0                0.0                      0.0   \n",
       "9133                0.0                0.0                      0.0   \n",
       "\n",
       "      renew_offer_type_Offer3  renew_offer_type_Offer4  sales_channel_Branch  \\\n",
       "0                         0.0                      0.0                   0.0   \n",
       "1                         1.0                      0.0                   0.0   \n",
       "2                         0.0                      0.0                   0.0   \n",
       "3                         0.0                      0.0                   0.0   \n",
       "4                         0.0                      0.0                   0.0   \n",
       "...                       ...                      ...                   ...   \n",
       "9129                      0.0                      0.0                   0.0   \n",
       "9130                      0.0                      0.0                   1.0   \n",
       "9131                      0.0                      0.0                   1.0   \n",
       "9132                      1.0                      0.0                   1.0   \n",
       "9133                      0.0                      1.0                   0.0   \n",
       "\n",
       "      sales_channel_Call Center  sales_channel_Web  \n",
       "0                           0.0                0.0  \n",
       "1                           0.0                0.0  \n",
       "2                           0.0                0.0  \n",
       "3                           1.0                0.0  \n",
       "4                           0.0                0.0  \n",
       "...                         ...                ...  \n",
       "9129                        0.0                1.0  \n",
       "9130                        0.0                0.0  \n",
       "9131                        0.0                0.0  \n",
       "9132                        0.0                0.0  \n",
       "9133                        1.0                0.0  \n",
       "\n",
       "[9134 rows x 22 columns]"
      ]
     },
     "metadata": {},
     "output_type": "display_data"
    }
   ],
   "source": [
    "# One Hot Encoding\n",
    "\n",
    "categorical_cols_ohe = categorical_df[['state','response', 'gender', 'marital_status', \n",
    "                                      'policy', 'renew_offer_type', 'sales_channel']]\n",
    "\n",
    "encoder = OneHotEncoder(drop='first').fit(categorical_cols_ohe)\n",
    "cols = encoder.get_feature_names(input_features = categorical_cols_ohe.columns)\n",
    "categorical_cols_encoded = pd.DataFrame(encoder.transform(categorical_cols_ohe).toarray(),columns=cols)\n",
    "\n",
    "display(categorical_cols_encoded)"
   ]
  },
  {
   "cell_type": "code",
   "execution_count": 38,
   "id": "623fa541",
   "metadata": {},
   "outputs": [],
   "source": [
    "# Combine both categorical dataframes\n",
    "cat_clean_df = pd.concat([categorical_df, categorical_cols_encoded], axis=1)\n",
    "cat_clean_df = cat_clean_df.drop(['state','response', 'gender', 'marital_status', \n",
    "                                      'policy', 'renew_offer_type', 'sales_channel'], axis=1)"
   ]
  },
  {
   "cell_type": "code",
   "execution_count": 39,
   "id": "0ad62ed6",
   "metadata": {
    "scrolled": true
   },
   "outputs": [
    {
     "data": {
      "text/html": [
       "<div>\n",
       "<style scoped>\n",
       "    .dataframe tbody tr th:only-of-type {\n",
       "        vertical-align: middle;\n",
       "    }\n",
       "\n",
       "    .dataframe tbody tr th {\n",
       "        vertical-align: top;\n",
       "    }\n",
       "\n",
       "    .dataframe thead th {\n",
       "        text-align: right;\n",
       "    }\n",
       "</style>\n",
       "<table border=\"1\" class=\"dataframe\">\n",
       "  <thead>\n",
       "    <tr style=\"text-align: right;\">\n",
       "      <th></th>\n",
       "      <th>coverage</th>\n",
       "      <th>education</th>\n",
       "      <th>employment_status</th>\n",
       "      <th>location_code</th>\n",
       "      <th>vehicle_class</th>\n",
       "      <th>vehicle_size</th>\n",
       "      <th>state_California</th>\n",
       "      <th>state_Nevada</th>\n",
       "      <th>state_Oregon</th>\n",
       "      <th>state_Washington</th>\n",
       "      <th>response_Yes</th>\n",
       "      <th>gender_M</th>\n",
       "      <th>marital_status_Married</th>\n",
       "      <th>marital_status_Single</th>\n",
       "      <th>policy_Corporate L2</th>\n",
       "      <th>policy_Corporate L3</th>\n",
       "      <th>policy_Personal L1</th>\n",
       "      <th>policy_Personal L2</th>\n",
       "      <th>policy_Personal L3</th>\n",
       "      <th>policy_Special L1</th>\n",
       "      <th>policy_Special L2</th>\n",
       "      <th>policy_Special L3</th>\n",
       "      <th>renew_offer_type_Offer2</th>\n",
       "      <th>renew_offer_type_Offer3</th>\n",
       "      <th>renew_offer_type_Offer4</th>\n",
       "      <th>sales_channel_Branch</th>\n",
       "      <th>sales_channel_Call Center</th>\n",
       "      <th>sales_channel_Web</th>\n",
       "      <th>customer_lifetime_value</th>\n",
       "      <th>income</th>\n",
       "      <th>monthly_premium_auto</th>\n",
       "      <th>months_since_last_claim</th>\n",
       "      <th>months_since_policy_inception</th>\n",
       "      <th>number_of_open_complaints</th>\n",
       "      <th>number_of_policies</th>\n",
       "      <th>total_claim_amount</th>\n",
       "    </tr>\n",
       "  </thead>\n",
       "  <tbody>\n",
       "    <tr>\n",
       "      <th>0</th>\n",
       "      <td>0.0</td>\n",
       "      <td>0.66</td>\n",
       "      <td>1.0</td>\n",
       "      <td>0.5</td>\n",
       "      <td>0.00</td>\n",
       "      <td>0.5</td>\n",
       "      <td>0.0</td>\n",
       "      <td>0.0</td>\n",
       "      <td>0.0</td>\n",
       "      <td>1.0</td>\n",
       "      <td>0.0</td>\n",
       "      <td>0.0</td>\n",
       "      <td>1.0</td>\n",
       "      <td>0.0</td>\n",
       "      <td>0.0</td>\n",
       "      <td>1.0</td>\n",
       "      <td>0.0</td>\n",
       "      <td>0.0</td>\n",
       "      <td>0.0</td>\n",
       "      <td>0.0</td>\n",
       "      <td>0.0</td>\n",
       "      <td>0.0</td>\n",
       "      <td>0.0</td>\n",
       "      <td>0.0</td>\n",
       "      <td>0.0</td>\n",
       "      <td>0.0</td>\n",
       "      <td>0.0</td>\n",
       "      <td>0.0</td>\n",
       "      <td>2763.519279</td>\n",
       "      <td>56274</td>\n",
       "      <td>69</td>\n",
       "      <td>32</td>\n",
       "      <td>5</td>\n",
       "      <td>0</td>\n",
       "      <td>1</td>\n",
       "      <td>384.811147</td>\n",
       "    </tr>\n",
       "    <tr>\n",
       "      <th>1</th>\n",
       "      <td>0.5</td>\n",
       "      <td>0.66</td>\n",
       "      <td>0.0</td>\n",
       "      <td>0.5</td>\n",
       "      <td>0.33</td>\n",
       "      <td>0.5</td>\n",
       "      <td>0.0</td>\n",
       "      <td>0.0</td>\n",
       "      <td>0.0</td>\n",
       "      <td>0.0</td>\n",
       "      <td>0.0</td>\n",
       "      <td>0.0</td>\n",
       "      <td>0.0</td>\n",
       "      <td>1.0</td>\n",
       "      <td>0.0</td>\n",
       "      <td>0.0</td>\n",
       "      <td>0.0</td>\n",
       "      <td>0.0</td>\n",
       "      <td>1.0</td>\n",
       "      <td>0.0</td>\n",
       "      <td>0.0</td>\n",
       "      <td>0.0</td>\n",
       "      <td>0.0</td>\n",
       "      <td>1.0</td>\n",
       "      <td>0.0</td>\n",
       "      <td>0.0</td>\n",
       "      <td>0.0</td>\n",
       "      <td>0.0</td>\n",
       "      <td>6979.535903</td>\n",
       "      <td>0</td>\n",
       "      <td>94</td>\n",
       "      <td>13</td>\n",
       "      <td>42</td>\n",
       "      <td>0</td>\n",
       "      <td>8</td>\n",
       "      <td>1131.464935</td>\n",
       "    </tr>\n",
       "    <tr>\n",
       "      <th>2</th>\n",
       "      <td>1.0</td>\n",
       "      <td>0.66</td>\n",
       "      <td>1.0</td>\n",
       "      <td>0.5</td>\n",
       "      <td>0.00</td>\n",
       "      <td>0.5</td>\n",
       "      <td>0.0</td>\n",
       "      <td>1.0</td>\n",
       "      <td>0.0</td>\n",
       "      <td>0.0</td>\n",
       "      <td>0.0</td>\n",
       "      <td>0.0</td>\n",
       "      <td>1.0</td>\n",
       "      <td>0.0</td>\n",
       "      <td>0.0</td>\n",
       "      <td>0.0</td>\n",
       "      <td>0.0</td>\n",
       "      <td>0.0</td>\n",
       "      <td>1.0</td>\n",
       "      <td>0.0</td>\n",
       "      <td>0.0</td>\n",
       "      <td>0.0</td>\n",
       "      <td>0.0</td>\n",
       "      <td>0.0</td>\n",
       "      <td>0.0</td>\n",
       "      <td>0.0</td>\n",
       "      <td>0.0</td>\n",
       "      <td>0.0</td>\n",
       "      <td>12887.431650</td>\n",
       "      <td>48767</td>\n",
       "      <td>108</td>\n",
       "      <td>18</td>\n",
       "      <td>38</td>\n",
       "      <td>0</td>\n",
       "      <td>2</td>\n",
       "      <td>566.472247</td>\n",
       "    </tr>\n",
       "    <tr>\n",
       "      <th>3</th>\n",
       "      <td>0.0</td>\n",
       "      <td>0.66</td>\n",
       "      <td>0.0</td>\n",
       "      <td>0.5</td>\n",
       "      <td>0.66</td>\n",
       "      <td>0.5</td>\n",
       "      <td>1.0</td>\n",
       "      <td>0.0</td>\n",
       "      <td>0.0</td>\n",
       "      <td>0.0</td>\n",
       "      <td>0.0</td>\n",
       "      <td>1.0</td>\n",
       "      <td>1.0</td>\n",
       "      <td>0.0</td>\n",
       "      <td>1.0</td>\n",
       "      <td>0.0</td>\n",
       "      <td>0.0</td>\n",
       "      <td>0.0</td>\n",
       "      <td>0.0</td>\n",
       "      <td>0.0</td>\n",
       "      <td>0.0</td>\n",
       "      <td>0.0</td>\n",
       "      <td>0.0</td>\n",
       "      <td>0.0</td>\n",
       "      <td>0.0</td>\n",
       "      <td>0.0</td>\n",
       "      <td>1.0</td>\n",
       "      <td>0.0</td>\n",
       "      <td>7645.861827</td>\n",
       "      <td>0</td>\n",
       "      <td>106</td>\n",
       "      <td>18</td>\n",
       "      <td>65</td>\n",
       "      <td>0</td>\n",
       "      <td>7</td>\n",
       "      <td>529.881344</td>\n",
       "    </tr>\n",
       "    <tr>\n",
       "      <th>4</th>\n",
       "      <td>0.0</td>\n",
       "      <td>0.66</td>\n",
       "      <td>1.0</td>\n",
       "      <td>0.0</td>\n",
       "      <td>0.33</td>\n",
       "      <td>0.5</td>\n",
       "      <td>0.0</td>\n",
       "      <td>0.0</td>\n",
       "      <td>0.0</td>\n",
       "      <td>1.0</td>\n",
       "      <td>0.0</td>\n",
       "      <td>1.0</td>\n",
       "      <td>0.0</td>\n",
       "      <td>1.0</td>\n",
       "      <td>0.0</td>\n",
       "      <td>0.0</td>\n",
       "      <td>1.0</td>\n",
       "      <td>0.0</td>\n",
       "      <td>0.0</td>\n",
       "      <td>0.0</td>\n",
       "      <td>0.0</td>\n",
       "      <td>0.0</td>\n",
       "      <td>0.0</td>\n",
       "      <td>0.0</td>\n",
       "      <td>0.0</td>\n",
       "      <td>0.0</td>\n",
       "      <td>0.0</td>\n",
       "      <td>0.0</td>\n",
       "      <td>2813.692575</td>\n",
       "      <td>43836</td>\n",
       "      <td>73</td>\n",
       "      <td>12</td>\n",
       "      <td>44</td>\n",
       "      <td>0</td>\n",
       "      <td>1</td>\n",
       "      <td>138.130879</td>\n",
       "    </tr>\n",
       "    <tr>\n",
       "      <th>...</th>\n",
       "      <td>...</td>\n",
       "      <td>...</td>\n",
       "      <td>...</td>\n",
       "      <td>...</td>\n",
       "      <td>...</td>\n",
       "      <td>...</td>\n",
       "      <td>...</td>\n",
       "      <td>...</td>\n",
       "      <td>...</td>\n",
       "      <td>...</td>\n",
       "      <td>...</td>\n",
       "      <td>...</td>\n",
       "      <td>...</td>\n",
       "      <td>...</td>\n",
       "      <td>...</td>\n",
       "      <td>...</td>\n",
       "      <td>...</td>\n",
       "      <td>...</td>\n",
       "      <td>...</td>\n",
       "      <td>...</td>\n",
       "      <td>...</td>\n",
       "      <td>...</td>\n",
       "      <td>...</td>\n",
       "      <td>...</td>\n",
       "      <td>...</td>\n",
       "      <td>...</td>\n",
       "      <td>...</td>\n",
       "      <td>...</td>\n",
       "      <td>...</td>\n",
       "      <td>...</td>\n",
       "      <td>...</td>\n",
       "      <td>...</td>\n",
       "      <td>...</td>\n",
       "      <td>...</td>\n",
       "      <td>...</td>\n",
       "      <td>...</td>\n",
       "    </tr>\n",
       "    <tr>\n",
       "      <th>9129</th>\n",
       "      <td>0.0</td>\n",
       "      <td>0.66</td>\n",
       "      <td>1.0</td>\n",
       "      <td>1.0</td>\n",
       "      <td>0.33</td>\n",
       "      <td>0.5</td>\n",
       "      <td>1.0</td>\n",
       "      <td>0.0</td>\n",
       "      <td>0.0</td>\n",
       "      <td>0.0</td>\n",
       "      <td>0.0</td>\n",
       "      <td>1.0</td>\n",
       "      <td>1.0</td>\n",
       "      <td>0.0</td>\n",
       "      <td>0.0</td>\n",
       "      <td>0.0</td>\n",
       "      <td>1.0</td>\n",
       "      <td>0.0</td>\n",
       "      <td>0.0</td>\n",
       "      <td>0.0</td>\n",
       "      <td>0.0</td>\n",
       "      <td>0.0</td>\n",
       "      <td>1.0</td>\n",
       "      <td>0.0</td>\n",
       "      <td>0.0</td>\n",
       "      <td>0.0</td>\n",
       "      <td>0.0</td>\n",
       "      <td>1.0</td>\n",
       "      <td>23405.987980</td>\n",
       "      <td>71941</td>\n",
       "      <td>73</td>\n",
       "      <td>18</td>\n",
       "      <td>89</td>\n",
       "      <td>0</td>\n",
       "      <td>2</td>\n",
       "      <td>198.234764</td>\n",
       "    </tr>\n",
       "    <tr>\n",
       "      <th>9130</th>\n",
       "      <td>0.5</td>\n",
       "      <td>0.33</td>\n",
       "      <td>1.0</td>\n",
       "      <td>0.5</td>\n",
       "      <td>0.33</td>\n",
       "      <td>0.5</td>\n",
       "      <td>1.0</td>\n",
       "      <td>0.0</td>\n",
       "      <td>0.0</td>\n",
       "      <td>0.0</td>\n",
       "      <td>1.0</td>\n",
       "      <td>0.0</td>\n",
       "      <td>0.0</td>\n",
       "      <td>0.0</td>\n",
       "      <td>0.0</td>\n",
       "      <td>1.0</td>\n",
       "      <td>0.0</td>\n",
       "      <td>0.0</td>\n",
       "      <td>0.0</td>\n",
       "      <td>0.0</td>\n",
       "      <td>0.0</td>\n",
       "      <td>0.0</td>\n",
       "      <td>0.0</td>\n",
       "      <td>0.0</td>\n",
       "      <td>0.0</td>\n",
       "      <td>1.0</td>\n",
       "      <td>0.0</td>\n",
       "      <td>0.0</td>\n",
       "      <td>3096.511217</td>\n",
       "      <td>21604</td>\n",
       "      <td>79</td>\n",
       "      <td>14</td>\n",
       "      <td>28</td>\n",
       "      <td>0</td>\n",
       "      <td>1</td>\n",
       "      <td>379.200000</td>\n",
       "    </tr>\n",
       "    <tr>\n",
       "      <th>9131</th>\n",
       "      <td>0.5</td>\n",
       "      <td>0.66</td>\n",
       "      <td>0.0</td>\n",
       "      <td>0.5</td>\n",
       "      <td>0.33</td>\n",
       "      <td>0.5</td>\n",
       "      <td>1.0</td>\n",
       "      <td>0.0</td>\n",
       "      <td>0.0</td>\n",
       "      <td>0.0</td>\n",
       "      <td>0.0</td>\n",
       "      <td>1.0</td>\n",
       "      <td>0.0</td>\n",
       "      <td>1.0</td>\n",
       "      <td>1.0</td>\n",
       "      <td>0.0</td>\n",
       "      <td>0.0</td>\n",
       "      <td>0.0</td>\n",
       "      <td>0.0</td>\n",
       "      <td>0.0</td>\n",
       "      <td>0.0</td>\n",
       "      <td>0.0</td>\n",
       "      <td>0.0</td>\n",
       "      <td>0.0</td>\n",
       "      <td>0.0</td>\n",
       "      <td>1.0</td>\n",
       "      <td>0.0</td>\n",
       "      <td>0.0</td>\n",
       "      <td>8163.890428</td>\n",
       "      <td>0</td>\n",
       "      <td>85</td>\n",
       "      <td>9</td>\n",
       "      <td>37</td>\n",
       "      <td>3</td>\n",
       "      <td>2</td>\n",
       "      <td>790.784983</td>\n",
       "    </tr>\n",
       "    <tr>\n",
       "      <th>9132</th>\n",
       "      <td>0.5</td>\n",
       "      <td>0.33</td>\n",
       "      <td>1.0</td>\n",
       "      <td>0.5</td>\n",
       "      <td>0.33</td>\n",
       "      <td>1.0</td>\n",
       "      <td>1.0</td>\n",
       "      <td>0.0</td>\n",
       "      <td>0.0</td>\n",
       "      <td>0.0</td>\n",
       "      <td>0.0</td>\n",
       "      <td>1.0</td>\n",
       "      <td>1.0</td>\n",
       "      <td>0.0</td>\n",
       "      <td>0.0</td>\n",
       "      <td>0.0</td>\n",
       "      <td>0.0</td>\n",
       "      <td>1.0</td>\n",
       "      <td>0.0</td>\n",
       "      <td>0.0</td>\n",
       "      <td>0.0</td>\n",
       "      <td>0.0</td>\n",
       "      <td>0.0</td>\n",
       "      <td>1.0</td>\n",
       "      <td>0.0</td>\n",
       "      <td>1.0</td>\n",
       "      <td>0.0</td>\n",
       "      <td>0.0</td>\n",
       "      <td>7524.442436</td>\n",
       "      <td>21941</td>\n",
       "      <td>96</td>\n",
       "      <td>34</td>\n",
       "      <td>3</td>\n",
       "      <td>0</td>\n",
       "      <td>3</td>\n",
       "      <td>691.200000</td>\n",
       "    </tr>\n",
       "    <tr>\n",
       "      <th>9133</th>\n",
       "      <td>0.5</td>\n",
       "      <td>0.33</td>\n",
       "      <td>0.0</td>\n",
       "      <td>0.5</td>\n",
       "      <td>0.00</td>\n",
       "      <td>0.5</td>\n",
       "      <td>1.0</td>\n",
       "      <td>0.0</td>\n",
       "      <td>0.0</td>\n",
       "      <td>0.0</td>\n",
       "      <td>0.0</td>\n",
       "      <td>1.0</td>\n",
       "      <td>0.0</td>\n",
       "      <td>1.0</td>\n",
       "      <td>0.0</td>\n",
       "      <td>1.0</td>\n",
       "      <td>0.0</td>\n",
       "      <td>0.0</td>\n",
       "      <td>0.0</td>\n",
       "      <td>0.0</td>\n",
       "      <td>0.0</td>\n",
       "      <td>0.0</td>\n",
       "      <td>0.0</td>\n",
       "      <td>0.0</td>\n",
       "      <td>1.0</td>\n",
       "      <td>0.0</td>\n",
       "      <td>1.0</td>\n",
       "      <td>0.0</td>\n",
       "      <td>2611.836866</td>\n",
       "      <td>0</td>\n",
       "      <td>77</td>\n",
       "      <td>3</td>\n",
       "      <td>90</td>\n",
       "      <td>0</td>\n",
       "      <td>1</td>\n",
       "      <td>369.600000</td>\n",
       "    </tr>\n",
       "  </tbody>\n",
       "</table>\n",
       "<p>9134 rows × 36 columns</p>\n",
       "</div>"
      ],
      "text/plain": [
       "      coverage  education  employment_status  location_code  vehicle_class  \\\n",
       "0          0.0       0.66                1.0            0.5           0.00   \n",
       "1          0.5       0.66                0.0            0.5           0.33   \n",
       "2          1.0       0.66                1.0            0.5           0.00   \n",
       "3          0.0       0.66                0.0            0.5           0.66   \n",
       "4          0.0       0.66                1.0            0.0           0.33   \n",
       "...        ...        ...                ...            ...            ...   \n",
       "9129       0.0       0.66                1.0            1.0           0.33   \n",
       "9130       0.5       0.33                1.0            0.5           0.33   \n",
       "9131       0.5       0.66                0.0            0.5           0.33   \n",
       "9132       0.5       0.33                1.0            0.5           0.33   \n",
       "9133       0.5       0.33                0.0            0.5           0.00   \n",
       "\n",
       "      vehicle_size  state_California  state_Nevada  state_Oregon  \\\n",
       "0              0.5               0.0           0.0           0.0   \n",
       "1              0.5               0.0           0.0           0.0   \n",
       "2              0.5               0.0           1.0           0.0   \n",
       "3              0.5               1.0           0.0           0.0   \n",
       "4              0.5               0.0           0.0           0.0   \n",
       "...            ...               ...           ...           ...   \n",
       "9129           0.5               1.0           0.0           0.0   \n",
       "9130           0.5               1.0           0.0           0.0   \n",
       "9131           0.5               1.0           0.0           0.0   \n",
       "9132           1.0               1.0           0.0           0.0   \n",
       "9133           0.5               1.0           0.0           0.0   \n",
       "\n",
       "      state_Washington  response_Yes  gender_M  marital_status_Married  \\\n",
       "0                  1.0           0.0       0.0                     1.0   \n",
       "1                  0.0           0.0       0.0                     0.0   \n",
       "2                  0.0           0.0       0.0                     1.0   \n",
       "3                  0.0           0.0       1.0                     1.0   \n",
       "4                  1.0           0.0       1.0                     0.0   \n",
       "...                ...           ...       ...                     ...   \n",
       "9129               0.0           0.0       1.0                     1.0   \n",
       "9130               0.0           1.0       0.0                     0.0   \n",
       "9131               0.0           0.0       1.0                     0.0   \n",
       "9132               0.0           0.0       1.0                     1.0   \n",
       "9133               0.0           0.0       1.0                     0.0   \n",
       "\n",
       "      marital_status_Single  policy_Corporate L2  policy_Corporate L3  \\\n",
       "0                       0.0                  0.0                  1.0   \n",
       "1                       1.0                  0.0                  0.0   \n",
       "2                       0.0                  0.0                  0.0   \n",
       "3                       0.0                  1.0                  0.0   \n",
       "4                       1.0                  0.0                  0.0   \n",
       "...                     ...                  ...                  ...   \n",
       "9129                    0.0                  0.0                  0.0   \n",
       "9130                    0.0                  0.0                  1.0   \n",
       "9131                    1.0                  1.0                  0.0   \n",
       "9132                    0.0                  0.0                  0.0   \n",
       "9133                    1.0                  0.0                  1.0   \n",
       "\n",
       "      policy_Personal L1  policy_Personal L2  policy_Personal L3  \\\n",
       "0                    0.0                 0.0                 0.0   \n",
       "1                    0.0                 0.0                 1.0   \n",
       "2                    0.0                 0.0                 1.0   \n",
       "3                    0.0                 0.0                 0.0   \n",
       "4                    1.0                 0.0                 0.0   \n",
       "...                  ...                 ...                 ...   \n",
       "9129                 1.0                 0.0                 0.0   \n",
       "9130                 0.0                 0.0                 0.0   \n",
       "9131                 0.0                 0.0                 0.0   \n",
       "9132                 0.0                 1.0                 0.0   \n",
       "9133                 0.0                 0.0                 0.0   \n",
       "\n",
       "      policy_Special L1  policy_Special L2  policy_Special L3  \\\n",
       "0                   0.0                0.0                0.0   \n",
       "1                   0.0                0.0                0.0   \n",
       "2                   0.0                0.0                0.0   \n",
       "3                   0.0                0.0                0.0   \n",
       "4                   0.0                0.0                0.0   \n",
       "...                 ...                ...                ...   \n",
       "9129                0.0                0.0                0.0   \n",
       "9130                0.0                0.0                0.0   \n",
       "9131                0.0                0.0                0.0   \n",
       "9132                0.0                0.0                0.0   \n",
       "9133                0.0                0.0                0.0   \n",
       "\n",
       "      renew_offer_type_Offer2  renew_offer_type_Offer3  \\\n",
       "0                         0.0                      0.0   \n",
       "1                         0.0                      1.0   \n",
       "2                         0.0                      0.0   \n",
       "3                         0.0                      0.0   \n",
       "4                         0.0                      0.0   \n",
       "...                       ...                      ...   \n",
       "9129                      1.0                      0.0   \n",
       "9130                      0.0                      0.0   \n",
       "9131                      0.0                      0.0   \n",
       "9132                      0.0                      1.0   \n",
       "9133                      0.0                      0.0   \n",
       "\n",
       "      renew_offer_type_Offer4  sales_channel_Branch  \\\n",
       "0                         0.0                   0.0   \n",
       "1                         0.0                   0.0   \n",
       "2                         0.0                   0.0   \n",
       "3                         0.0                   0.0   \n",
       "4                         0.0                   0.0   \n",
       "...                       ...                   ...   \n",
       "9129                      0.0                   0.0   \n",
       "9130                      0.0                   1.0   \n",
       "9131                      0.0                   1.0   \n",
       "9132                      0.0                   1.0   \n",
       "9133                      1.0                   0.0   \n",
       "\n",
       "      sales_channel_Call Center  sales_channel_Web  customer_lifetime_value  \\\n",
       "0                           0.0                0.0              2763.519279   \n",
       "1                           0.0                0.0              6979.535903   \n",
       "2                           0.0                0.0             12887.431650   \n",
       "3                           1.0                0.0              7645.861827   \n",
       "4                           0.0                0.0              2813.692575   \n",
       "...                         ...                ...                      ...   \n",
       "9129                        0.0                1.0             23405.987980   \n",
       "9130                        0.0                0.0              3096.511217   \n",
       "9131                        0.0                0.0              8163.890428   \n",
       "9132                        0.0                0.0              7524.442436   \n",
       "9133                        1.0                0.0              2611.836866   \n",
       "\n",
       "      income  monthly_premium_auto  months_since_last_claim  \\\n",
       "0      56274                    69                       32   \n",
       "1          0                    94                       13   \n",
       "2      48767                   108                       18   \n",
       "3          0                   106                       18   \n",
       "4      43836                    73                       12   \n",
       "...      ...                   ...                      ...   \n",
       "9129   71941                    73                       18   \n",
       "9130   21604                    79                       14   \n",
       "9131       0                    85                        9   \n",
       "9132   21941                    96                       34   \n",
       "9133       0                    77                        3   \n",
       "\n",
       "      months_since_policy_inception  number_of_open_complaints  \\\n",
       "0                                 5                          0   \n",
       "1                                42                          0   \n",
       "2                                38                          0   \n",
       "3                                65                          0   \n",
       "4                                44                          0   \n",
       "...                             ...                        ...   \n",
       "9129                             89                          0   \n",
       "9130                             28                          0   \n",
       "9131                             37                          3   \n",
       "9132                              3                          0   \n",
       "9133                             90                          0   \n",
       "\n",
       "      number_of_policies  total_claim_amount  \n",
       "0                      1          384.811147  \n",
       "1                      8         1131.464935  \n",
       "2                      2          566.472247  \n",
       "3                      7          529.881344  \n",
       "4                      1          138.130879  \n",
       "...                  ...                 ...  \n",
       "9129                   2          198.234764  \n",
       "9130                   1          379.200000  \n",
       "9131                   2          790.784983  \n",
       "9132                   3          691.200000  \n",
       "9133                   1          369.600000  \n",
       "\n",
       "[9134 rows x 36 columns]"
      ]
     },
     "metadata": {},
     "output_type": "display_data"
    }
   ],
   "source": [
    "# Lastly, combine numerical and categorical data\n",
    "customer_clean = pd.concat([cat_clean_df, numerical], axis=1)\n",
    "display(customer_clean)"
   ]
  },
  {
   "cell_type": "markdown",
   "id": "a89b66f7",
   "metadata": {},
   "source": [
    "## Regression models"
   ]
  },
  {
   "cell_type": "markdown",
   "id": "018cbbea",
   "metadata": {},
   "source": [
    "#### In this final lab, we will model our data. Import sklearn train_test_split and separate the data."
   ]
  },
  {
   "cell_type": "code",
   "execution_count": 40,
   "id": "392f993b",
   "metadata": {},
   "outputs": [
    {
     "name": "stdout",
     "output_type": "stream",
     "text": [
      "X train set shape is: (7307, 35)\n",
      "y train set shape is: (7307,)\n",
      "X test set shape is: (1827, 35)\n",
      "y test set shape is: (1827,)\n"
     ]
    }
   ],
   "source": [
    "y = customer_clean['total_claim_amount']\n",
    "X = customer_clean.drop('total_claim_amount', axis=1)\n",
    "\n",
    "#X_train, y_test, X_test, y_test = \n",
    "X_train, X_test, y_train, y_test = train_test_split(X, y, test_size=0.2, random_state=42)\n",
    "\n",
    "print('X train set shape is:', X_train.shape)\n",
    "print('y train set shape is:', y_train.shape)\n",
    "print('X test set shape is:', X_test.shape)\n",
    "print('y test set shape is:', y_test.shape)"
   ]
  },
  {
   "cell_type": "markdown",
   "id": "aafb2945",
   "metadata": {},
   "source": [
    "#### We will start with removing outliers, if you have not already done so. We have discussed different methods to remove outliers. Use the one you feel more comfortable with, define a function for that. Use the function to remove the outliers and apply it to the dataframe."
   ]
  },
  {
   "cell_type": "markdown",
   "id": "bf3098a4",
   "metadata": {},
   "source": [
    "Already done in the first part of the lab."
   ]
  },
  {
   "cell_type": "markdown",
   "id": "2c64f7af",
   "metadata": {},
   "source": [
    "#### Create a copy of the dataframe for the data wrangling."
   ]
  },
  {
   "cell_type": "code",
   "execution_count": 41,
   "id": "718dafc0",
   "metadata": {},
   "outputs": [
    {
     "data": {
      "text/html": [
       "<div>\n",
       "<style scoped>\n",
       "    .dataframe tbody tr th:only-of-type {\n",
       "        vertical-align: middle;\n",
       "    }\n",
       "\n",
       "    .dataframe tbody tr th {\n",
       "        vertical-align: top;\n",
       "    }\n",
       "\n",
       "    .dataframe thead th {\n",
       "        text-align: right;\n",
       "    }\n",
       "</style>\n",
       "<table border=\"1\" class=\"dataframe\">\n",
       "  <thead>\n",
       "    <tr style=\"text-align: right;\">\n",
       "      <th></th>\n",
       "      <th>coverage</th>\n",
       "      <th>education</th>\n",
       "      <th>employment_status</th>\n",
       "      <th>location_code</th>\n",
       "      <th>vehicle_class</th>\n",
       "      <th>vehicle_size</th>\n",
       "      <th>state_California</th>\n",
       "      <th>state_Nevada</th>\n",
       "      <th>state_Oregon</th>\n",
       "      <th>state_Washington</th>\n",
       "      <th>response_Yes</th>\n",
       "      <th>gender_M</th>\n",
       "      <th>marital_status_Married</th>\n",
       "      <th>marital_status_Single</th>\n",
       "      <th>policy_Corporate L2</th>\n",
       "      <th>policy_Corporate L3</th>\n",
       "      <th>policy_Personal L1</th>\n",
       "      <th>policy_Personal L2</th>\n",
       "      <th>policy_Personal L3</th>\n",
       "      <th>policy_Special L1</th>\n",
       "      <th>policy_Special L2</th>\n",
       "      <th>policy_Special L3</th>\n",
       "      <th>renew_offer_type_Offer2</th>\n",
       "      <th>renew_offer_type_Offer3</th>\n",
       "      <th>renew_offer_type_Offer4</th>\n",
       "      <th>sales_channel_Branch</th>\n",
       "      <th>sales_channel_Call Center</th>\n",
       "      <th>sales_channel_Web</th>\n",
       "      <th>customer_lifetime_value</th>\n",
       "      <th>income</th>\n",
       "      <th>monthly_premium_auto</th>\n",
       "      <th>months_since_last_claim</th>\n",
       "      <th>months_since_policy_inception</th>\n",
       "      <th>number_of_open_complaints</th>\n",
       "      <th>number_of_policies</th>\n",
       "      <th>total_claim_amount</th>\n",
       "    </tr>\n",
       "  </thead>\n",
       "  <tbody>\n",
       "    <tr>\n",
       "      <th>0</th>\n",
       "      <td>0.0</td>\n",
       "      <td>0.66</td>\n",
       "      <td>1.0</td>\n",
       "      <td>0.5</td>\n",
       "      <td>0.00</td>\n",
       "      <td>0.5</td>\n",
       "      <td>0.0</td>\n",
       "      <td>0.0</td>\n",
       "      <td>0.0</td>\n",
       "      <td>1.0</td>\n",
       "      <td>0.0</td>\n",
       "      <td>0.0</td>\n",
       "      <td>1.0</td>\n",
       "      <td>0.0</td>\n",
       "      <td>0.0</td>\n",
       "      <td>1.0</td>\n",
       "      <td>0.0</td>\n",
       "      <td>0.0</td>\n",
       "      <td>0.0</td>\n",
       "      <td>0.0</td>\n",
       "      <td>0.0</td>\n",
       "      <td>0.0</td>\n",
       "      <td>0.0</td>\n",
       "      <td>0.0</td>\n",
       "      <td>0.0</td>\n",
       "      <td>0.0</td>\n",
       "      <td>0.0</td>\n",
       "      <td>0.0</td>\n",
       "      <td>2763.519279</td>\n",
       "      <td>56274</td>\n",
       "      <td>69</td>\n",
       "      <td>32</td>\n",
       "      <td>5</td>\n",
       "      <td>0</td>\n",
       "      <td>1</td>\n",
       "      <td>384.811147</td>\n",
       "    </tr>\n",
       "    <tr>\n",
       "      <th>1</th>\n",
       "      <td>0.5</td>\n",
       "      <td>0.66</td>\n",
       "      <td>0.0</td>\n",
       "      <td>0.5</td>\n",
       "      <td>0.33</td>\n",
       "      <td>0.5</td>\n",
       "      <td>0.0</td>\n",
       "      <td>0.0</td>\n",
       "      <td>0.0</td>\n",
       "      <td>0.0</td>\n",
       "      <td>0.0</td>\n",
       "      <td>0.0</td>\n",
       "      <td>0.0</td>\n",
       "      <td>1.0</td>\n",
       "      <td>0.0</td>\n",
       "      <td>0.0</td>\n",
       "      <td>0.0</td>\n",
       "      <td>0.0</td>\n",
       "      <td>1.0</td>\n",
       "      <td>0.0</td>\n",
       "      <td>0.0</td>\n",
       "      <td>0.0</td>\n",
       "      <td>0.0</td>\n",
       "      <td>1.0</td>\n",
       "      <td>0.0</td>\n",
       "      <td>0.0</td>\n",
       "      <td>0.0</td>\n",
       "      <td>0.0</td>\n",
       "      <td>6979.535903</td>\n",
       "      <td>0</td>\n",
       "      <td>94</td>\n",
       "      <td>13</td>\n",
       "      <td>42</td>\n",
       "      <td>0</td>\n",
       "      <td>8</td>\n",
       "      <td>1131.464935</td>\n",
       "    </tr>\n",
       "    <tr>\n",
       "      <th>2</th>\n",
       "      <td>1.0</td>\n",
       "      <td>0.66</td>\n",
       "      <td>1.0</td>\n",
       "      <td>0.5</td>\n",
       "      <td>0.00</td>\n",
       "      <td>0.5</td>\n",
       "      <td>0.0</td>\n",
       "      <td>1.0</td>\n",
       "      <td>0.0</td>\n",
       "      <td>0.0</td>\n",
       "      <td>0.0</td>\n",
       "      <td>0.0</td>\n",
       "      <td>1.0</td>\n",
       "      <td>0.0</td>\n",
       "      <td>0.0</td>\n",
       "      <td>0.0</td>\n",
       "      <td>0.0</td>\n",
       "      <td>0.0</td>\n",
       "      <td>1.0</td>\n",
       "      <td>0.0</td>\n",
       "      <td>0.0</td>\n",
       "      <td>0.0</td>\n",
       "      <td>0.0</td>\n",
       "      <td>0.0</td>\n",
       "      <td>0.0</td>\n",
       "      <td>0.0</td>\n",
       "      <td>0.0</td>\n",
       "      <td>0.0</td>\n",
       "      <td>12887.431650</td>\n",
       "      <td>48767</td>\n",
       "      <td>108</td>\n",
       "      <td>18</td>\n",
       "      <td>38</td>\n",
       "      <td>0</td>\n",
       "      <td>2</td>\n",
       "      <td>566.472247</td>\n",
       "    </tr>\n",
       "    <tr>\n",
       "      <th>3</th>\n",
       "      <td>0.0</td>\n",
       "      <td>0.66</td>\n",
       "      <td>0.0</td>\n",
       "      <td>0.5</td>\n",
       "      <td>0.66</td>\n",
       "      <td>0.5</td>\n",
       "      <td>1.0</td>\n",
       "      <td>0.0</td>\n",
       "      <td>0.0</td>\n",
       "      <td>0.0</td>\n",
       "      <td>0.0</td>\n",
       "      <td>1.0</td>\n",
       "      <td>1.0</td>\n",
       "      <td>0.0</td>\n",
       "      <td>1.0</td>\n",
       "      <td>0.0</td>\n",
       "      <td>0.0</td>\n",
       "      <td>0.0</td>\n",
       "      <td>0.0</td>\n",
       "      <td>0.0</td>\n",
       "      <td>0.0</td>\n",
       "      <td>0.0</td>\n",
       "      <td>0.0</td>\n",
       "      <td>0.0</td>\n",
       "      <td>0.0</td>\n",
       "      <td>0.0</td>\n",
       "      <td>1.0</td>\n",
       "      <td>0.0</td>\n",
       "      <td>7645.861827</td>\n",
       "      <td>0</td>\n",
       "      <td>106</td>\n",
       "      <td>18</td>\n",
       "      <td>65</td>\n",
       "      <td>0</td>\n",
       "      <td>7</td>\n",
       "      <td>529.881344</td>\n",
       "    </tr>\n",
       "    <tr>\n",
       "      <th>4</th>\n",
       "      <td>0.0</td>\n",
       "      <td>0.66</td>\n",
       "      <td>1.0</td>\n",
       "      <td>0.0</td>\n",
       "      <td>0.33</td>\n",
       "      <td>0.5</td>\n",
       "      <td>0.0</td>\n",
       "      <td>0.0</td>\n",
       "      <td>0.0</td>\n",
       "      <td>1.0</td>\n",
       "      <td>0.0</td>\n",
       "      <td>1.0</td>\n",
       "      <td>0.0</td>\n",
       "      <td>1.0</td>\n",
       "      <td>0.0</td>\n",
       "      <td>0.0</td>\n",
       "      <td>1.0</td>\n",
       "      <td>0.0</td>\n",
       "      <td>0.0</td>\n",
       "      <td>0.0</td>\n",
       "      <td>0.0</td>\n",
       "      <td>0.0</td>\n",
       "      <td>0.0</td>\n",
       "      <td>0.0</td>\n",
       "      <td>0.0</td>\n",
       "      <td>0.0</td>\n",
       "      <td>0.0</td>\n",
       "      <td>0.0</td>\n",
       "      <td>2813.692575</td>\n",
       "      <td>43836</td>\n",
       "      <td>73</td>\n",
       "      <td>12</td>\n",
       "      <td>44</td>\n",
       "      <td>0</td>\n",
       "      <td>1</td>\n",
       "      <td>138.130879</td>\n",
       "    </tr>\n",
       "  </tbody>\n",
       "</table>\n",
       "</div>"
      ],
      "text/plain": [
       "   coverage  education  employment_status  location_code  vehicle_class  \\\n",
       "0       0.0       0.66                1.0            0.5           0.00   \n",
       "1       0.5       0.66                0.0            0.5           0.33   \n",
       "2       1.0       0.66                1.0            0.5           0.00   \n",
       "3       0.0       0.66                0.0            0.5           0.66   \n",
       "4       0.0       0.66                1.0            0.0           0.33   \n",
       "\n",
       "   vehicle_size  state_California  state_Nevada  state_Oregon  \\\n",
       "0           0.5               0.0           0.0           0.0   \n",
       "1           0.5               0.0           0.0           0.0   \n",
       "2           0.5               0.0           1.0           0.0   \n",
       "3           0.5               1.0           0.0           0.0   \n",
       "4           0.5               0.0           0.0           0.0   \n",
       "\n",
       "   state_Washington  response_Yes  gender_M  marital_status_Married  \\\n",
       "0               1.0           0.0       0.0                     1.0   \n",
       "1               0.0           0.0       0.0                     0.0   \n",
       "2               0.0           0.0       0.0                     1.0   \n",
       "3               0.0           0.0       1.0                     1.0   \n",
       "4               1.0           0.0       1.0                     0.0   \n",
       "\n",
       "   marital_status_Single  policy_Corporate L2  policy_Corporate L3  \\\n",
       "0                    0.0                  0.0                  1.0   \n",
       "1                    1.0                  0.0                  0.0   \n",
       "2                    0.0                  0.0                  0.0   \n",
       "3                    0.0                  1.0                  0.0   \n",
       "4                    1.0                  0.0                  0.0   \n",
       "\n",
       "   policy_Personal L1  policy_Personal L2  policy_Personal L3  \\\n",
       "0                 0.0                 0.0                 0.0   \n",
       "1                 0.0                 0.0                 1.0   \n",
       "2                 0.0                 0.0                 1.0   \n",
       "3                 0.0                 0.0                 0.0   \n",
       "4                 1.0                 0.0                 0.0   \n",
       "\n",
       "   policy_Special L1  policy_Special L2  policy_Special L3  \\\n",
       "0                0.0                0.0                0.0   \n",
       "1                0.0                0.0                0.0   \n",
       "2                0.0                0.0                0.0   \n",
       "3                0.0                0.0                0.0   \n",
       "4                0.0                0.0                0.0   \n",
       "\n",
       "   renew_offer_type_Offer2  renew_offer_type_Offer3  renew_offer_type_Offer4  \\\n",
       "0                      0.0                      0.0                      0.0   \n",
       "1                      0.0                      1.0                      0.0   \n",
       "2                      0.0                      0.0                      0.0   \n",
       "3                      0.0                      0.0                      0.0   \n",
       "4                      0.0                      0.0                      0.0   \n",
       "\n",
       "   sales_channel_Branch  sales_channel_Call Center  sales_channel_Web  \\\n",
       "0                   0.0                        0.0                0.0   \n",
       "1                   0.0                        0.0                0.0   \n",
       "2                   0.0                        0.0                0.0   \n",
       "3                   0.0                        1.0                0.0   \n",
       "4                   0.0                        0.0                0.0   \n",
       "\n",
       "   customer_lifetime_value  income  monthly_premium_auto  \\\n",
       "0              2763.519279   56274                    69   \n",
       "1              6979.535903       0                    94   \n",
       "2             12887.431650   48767                   108   \n",
       "3              7645.861827       0                   106   \n",
       "4              2813.692575   43836                    73   \n",
       "\n",
       "   months_since_last_claim  months_since_policy_inception  \\\n",
       "0                       32                              5   \n",
       "1                       13                             42   \n",
       "2                       18                             38   \n",
       "3                       18                             65   \n",
       "4                       12                             44   \n",
       "\n",
       "   number_of_open_complaints  number_of_policies  total_claim_amount  \n",
       "0                          0                   1          384.811147  \n",
       "1                          0                   8         1131.464935  \n",
       "2                          0                   2          566.472247  \n",
       "3                          0                   7          529.881344  \n",
       "4                          0                   1          138.130879  "
      ]
     },
     "metadata": {},
     "output_type": "display_data"
    }
   ],
   "source": [
    "customer_cp = customer_clean.copy()\n",
    "display(customer_cp.head())"
   ]
  },
  {
   "cell_type": "markdown",
   "id": "4ae3e8fa",
   "metadata": {},
   "source": [
    "#### Normalize the continuous variables. You can use any one method you want."
   ]
  },
  {
   "cell_type": "markdown",
   "id": "eab0dbc4",
   "metadata": {},
   "source": [
    "I guess we also need to normalize the discrete numerical data, so I am going tu apply the MinxMax() scaler over all the numerical columns."
   ]
  },
  {
   "cell_type": "code",
   "execution_count": 42,
   "id": "dbfe7799",
   "metadata": {},
   "outputs": [],
   "source": [
    "X_train_minmax = X_train[['customer_lifetime_value','income','monthly_premium_auto',\n",
    "                          'months_since_last_claim', 'months_since_policy_inception',\n",
    "                          'number_of_open_complaints','number_of_policies']]\n",
    "X_test_minmax = X_test[['customer_lifetime_value','income','monthly_premium_auto',\n",
    "                        'months_since_last_claim','months_since_policy_inception',\n",
    "                        'number_of_open_complaints','number_of_policies']]\n",
    "\n",
    "scaler = MinMaxScaler().fit(X_train_minmax)"
   ]
  },
  {
   "cell_type": "code",
   "execution_count": 43,
   "id": "c4d5ca8f",
   "metadata": {},
   "outputs": [
    {
     "data": {
      "text/html": [
       "<div>\n",
       "<style scoped>\n",
       "    .dataframe tbody tr th:only-of-type {\n",
       "        vertical-align: middle;\n",
       "    }\n",
       "\n",
       "    .dataframe tbody tr th {\n",
       "        vertical-align: top;\n",
       "    }\n",
       "\n",
       "    .dataframe thead th {\n",
       "        text-align: right;\n",
       "    }\n",
       "</style>\n",
       "<table border=\"1\" class=\"dataframe\">\n",
       "  <thead>\n",
       "    <tr style=\"text-align: right;\">\n",
       "      <th></th>\n",
       "      <th>customer_lifetime_value</th>\n",
       "      <th>income</th>\n",
       "      <th>monthly_premium_auto</th>\n",
       "      <th>months_since_last_claim</th>\n",
       "      <th>months_since_policy_inception</th>\n",
       "      <th>number_of_open_complaints</th>\n",
       "      <th>number_of_policies</th>\n",
       "    </tr>\n",
       "  </thead>\n",
       "  <tbody>\n",
       "    <tr>\n",
       "      <th>0</th>\n",
       "      <td>0.035258</td>\n",
       "      <td>0.511537</td>\n",
       "      <td>0.000000</td>\n",
       "      <td>0.800000</td>\n",
       "      <td>0.323232</td>\n",
       "      <td>0.2</td>\n",
       "      <td>1.000</td>\n",
       "    </tr>\n",
       "    <tr>\n",
       "      <th>1</th>\n",
       "      <td>0.011416</td>\n",
       "      <td>0.000000</td>\n",
       "      <td>0.075949</td>\n",
       "      <td>0.857143</td>\n",
       "      <td>0.252525</td>\n",
       "      <td>0.0</td>\n",
       "      <td>0.000</td>\n",
       "    </tr>\n",
       "    <tr>\n",
       "      <th>2</th>\n",
       "      <td>0.012464</td>\n",
       "      <td>0.811124</td>\n",
       "      <td>0.054852</td>\n",
       "      <td>0.200000</td>\n",
       "      <td>0.676768</td>\n",
       "      <td>0.0</td>\n",
       "      <td>0.000</td>\n",
       "    </tr>\n",
       "    <tr>\n",
       "      <th>3</th>\n",
       "      <td>0.039793</td>\n",
       "      <td>0.722777</td>\n",
       "      <td>0.012658</td>\n",
       "      <td>0.057143</td>\n",
       "      <td>0.666667</td>\n",
       "      <td>0.0</td>\n",
       "      <td>1.000</td>\n",
       "    </tr>\n",
       "    <tr>\n",
       "      <th>4</th>\n",
       "      <td>0.008748</td>\n",
       "      <td>0.547474</td>\n",
       "      <td>0.021097</td>\n",
       "      <td>0.085714</td>\n",
       "      <td>0.868687</td>\n",
       "      <td>0.0</td>\n",
       "      <td>0.000</td>\n",
       "    </tr>\n",
       "    <tr>\n",
       "      <th>5</th>\n",
       "      <td>0.088456</td>\n",
       "      <td>0.389054</td>\n",
       "      <td>0.236287</td>\n",
       "      <td>0.742857</td>\n",
       "      <td>0.686869</td>\n",
       "      <td>0.0</td>\n",
       "      <td>0.250</td>\n",
       "    </tr>\n",
       "    <tr>\n",
       "      <th>6</th>\n",
       "      <td>0.118728</td>\n",
       "      <td>0.646543</td>\n",
       "      <td>0.147679</td>\n",
       "      <td>0.085714</td>\n",
       "      <td>0.797980</td>\n",
       "      <td>0.0</td>\n",
       "      <td>0.125</td>\n",
       "    </tr>\n",
       "    <tr>\n",
       "      <th>7</th>\n",
       "      <td>0.070589</td>\n",
       "      <td>0.000000</td>\n",
       "      <td>0.189873</td>\n",
       "      <td>0.514286</td>\n",
       "      <td>0.656566</td>\n",
       "      <td>0.0</td>\n",
       "      <td>0.750</td>\n",
       "    </tr>\n",
       "    <tr>\n",
       "      <th>8</th>\n",
       "      <td>0.041208</td>\n",
       "      <td>0.128134</td>\n",
       "      <td>0.375527</td>\n",
       "      <td>0.771429</td>\n",
       "      <td>0.000000</td>\n",
       "      <td>0.4</td>\n",
       "      <td>0.000</td>\n",
       "    </tr>\n",
       "    <tr>\n",
       "      <th>9</th>\n",
       "      <td>0.042709</td>\n",
       "      <td>0.000000</td>\n",
       "      <td>0.080169</td>\n",
       "      <td>0.371429</td>\n",
       "      <td>0.575758</td>\n",
       "      <td>0.2</td>\n",
       "      <td>0.375</td>\n",
       "    </tr>\n",
       "  </tbody>\n",
       "</table>\n",
       "</div>"
      ],
      "text/plain": [
       "   customer_lifetime_value    income  monthly_premium_auto  \\\n",
       "0                 0.035258  0.511537              0.000000   \n",
       "1                 0.011416  0.000000              0.075949   \n",
       "2                 0.012464  0.811124              0.054852   \n",
       "3                 0.039793  0.722777              0.012658   \n",
       "4                 0.008748  0.547474              0.021097   \n",
       "5                 0.088456  0.389054              0.236287   \n",
       "6                 0.118728  0.646543              0.147679   \n",
       "7                 0.070589  0.000000              0.189873   \n",
       "8                 0.041208  0.128134              0.375527   \n",
       "9                 0.042709  0.000000              0.080169   \n",
       "\n",
       "   months_since_last_claim  months_since_policy_inception  \\\n",
       "0                 0.800000                       0.323232   \n",
       "1                 0.857143                       0.252525   \n",
       "2                 0.200000                       0.676768   \n",
       "3                 0.057143                       0.666667   \n",
       "4                 0.085714                       0.868687   \n",
       "5                 0.742857                       0.686869   \n",
       "6                 0.085714                       0.797980   \n",
       "7                 0.514286                       0.656566   \n",
       "8                 0.771429                       0.000000   \n",
       "9                 0.371429                       0.575758   \n",
       "\n",
       "   number_of_open_complaints  number_of_policies  \n",
       "0                        0.2               1.000  \n",
       "1                        0.0               0.000  \n",
       "2                        0.0               0.000  \n",
       "3                        0.0               1.000  \n",
       "4                        0.0               0.000  \n",
       "5                        0.0               0.250  \n",
       "6                        0.0               0.125  \n",
       "7                        0.0               0.750  \n",
       "8                        0.4               0.000  \n",
       "9                        0.2               0.375  "
      ]
     },
     "execution_count": 43,
     "metadata": {},
     "output_type": "execute_result"
    }
   ],
   "source": [
    "# MinMax on X_train set\n",
    "X_train_norm = scaler.transform(X_train_minmax)\n",
    "X_train_scaled = pd.DataFrame(X_train_norm, columns= X_train_minmax.columns)\n",
    "X_train_scaled = X_train_scaled.reset_index(drop=True)\n",
    "X_train_scaled.head(10)"
   ]
  },
  {
   "cell_type": "code",
   "execution_count": 44,
   "id": "4890f0db",
   "metadata": {},
   "outputs": [
    {
     "data": {
      "text/html": [
       "<div>\n",
       "<style scoped>\n",
       "    .dataframe tbody tr th:only-of-type {\n",
       "        vertical-align: middle;\n",
       "    }\n",
       "\n",
       "    .dataframe tbody tr th {\n",
       "        vertical-align: top;\n",
       "    }\n",
       "\n",
       "    .dataframe thead th {\n",
       "        text-align: right;\n",
       "    }\n",
       "</style>\n",
       "<table border=\"1\" class=\"dataframe\">\n",
       "  <thead>\n",
       "    <tr style=\"text-align: right;\">\n",
       "      <th></th>\n",
       "      <th>customer_lifetime_value</th>\n",
       "      <th>income</th>\n",
       "      <th>monthly_premium_auto</th>\n",
       "      <th>months_since_last_claim</th>\n",
       "      <th>months_since_policy_inception</th>\n",
       "      <th>number_of_open_complaints</th>\n",
       "      <th>number_of_policies</th>\n",
       "    </tr>\n",
       "  </thead>\n",
       "  <tbody>\n",
       "    <tr>\n",
       "      <th>0</th>\n",
       "      <td>0.028548</td>\n",
       "      <td>0.745992</td>\n",
       "      <td>0.189873</td>\n",
       "      <td>0.028571</td>\n",
       "      <td>0.494949</td>\n",
       "      <td>0.0</td>\n",
       "      <td>0.000</td>\n",
       "    </tr>\n",
       "    <tr>\n",
       "      <th>1</th>\n",
       "      <td>0.044412</td>\n",
       "      <td>0.232224</td>\n",
       "      <td>0.042194</td>\n",
       "      <td>0.200000</td>\n",
       "      <td>0.101010</td>\n",
       "      <td>0.0</td>\n",
       "      <td>0.375</td>\n",
       "    </tr>\n",
       "    <tr>\n",
       "      <th>2</th>\n",
       "      <td>0.023458</td>\n",
       "      <td>0.949210</td>\n",
       "      <td>0.139241</td>\n",
       "      <td>0.085714</td>\n",
       "      <td>0.383838</td>\n",
       "      <td>0.0</td>\n",
       "      <td>0.000</td>\n",
       "    </tr>\n",
       "    <tr>\n",
       "      <th>3</th>\n",
       "      <td>0.073892</td>\n",
       "      <td>0.771677</td>\n",
       "      <td>0.160338</td>\n",
       "      <td>0.085714</td>\n",
       "      <td>0.272727</td>\n",
       "      <td>0.2</td>\n",
       "      <td>0.500</td>\n",
       "    </tr>\n",
       "    <tr>\n",
       "      <th>4</th>\n",
       "      <td>0.074099</td>\n",
       "      <td>0.237735</td>\n",
       "      <td>0.033755</td>\n",
       "      <td>0.514286</td>\n",
       "      <td>0.141414</td>\n",
       "      <td>0.0</td>\n",
       "      <td>0.125</td>\n",
       "    </tr>\n",
       "    <tr>\n",
       "      <th>5</th>\n",
       "      <td>0.152724</td>\n",
       "      <td>0.414669</td>\n",
       "      <td>0.042194</td>\n",
       "      <td>0.228571</td>\n",
       "      <td>0.040404</td>\n",
       "      <td>0.0</td>\n",
       "      <td>0.125</td>\n",
       "    </tr>\n",
       "    <tr>\n",
       "      <th>6</th>\n",
       "      <td>0.044976</td>\n",
       "      <td>0.000000</td>\n",
       "      <td>0.054852</td>\n",
       "      <td>0.828571</td>\n",
       "      <td>0.525253</td>\n",
       "      <td>0.0</td>\n",
       "      <td>0.875</td>\n",
       "    </tr>\n",
       "    <tr>\n",
       "      <th>7</th>\n",
       "      <td>0.035377</td>\n",
       "      <td>0.000000</td>\n",
       "      <td>0.050633</td>\n",
       "      <td>0.228571</td>\n",
       "      <td>0.171717</td>\n",
       "      <td>0.4</td>\n",
       "      <td>1.000</td>\n",
       "    </tr>\n",
       "    <tr>\n",
       "      <th>8</th>\n",
       "      <td>0.034699</td>\n",
       "      <td>0.291985</td>\n",
       "      <td>0.000000</td>\n",
       "      <td>0.000000</td>\n",
       "      <td>0.474747</td>\n",
       "      <td>0.6</td>\n",
       "      <td>1.000</td>\n",
       "    </tr>\n",
       "    <tr>\n",
       "      <th>9</th>\n",
       "      <td>0.043257</td>\n",
       "      <td>0.218852</td>\n",
       "      <td>0.033755</td>\n",
       "      <td>0.257143</td>\n",
       "      <td>0.272727</td>\n",
       "      <td>0.0</td>\n",
       "      <td>0.500</td>\n",
       "    </tr>\n",
       "  </tbody>\n",
       "</table>\n",
       "</div>"
      ],
      "text/plain": [
       "   customer_lifetime_value    income  monthly_premium_auto  \\\n",
       "0                 0.028548  0.745992              0.189873   \n",
       "1                 0.044412  0.232224              0.042194   \n",
       "2                 0.023458  0.949210              0.139241   \n",
       "3                 0.073892  0.771677              0.160338   \n",
       "4                 0.074099  0.237735              0.033755   \n",
       "5                 0.152724  0.414669              0.042194   \n",
       "6                 0.044976  0.000000              0.054852   \n",
       "7                 0.035377  0.000000              0.050633   \n",
       "8                 0.034699  0.291985              0.000000   \n",
       "9                 0.043257  0.218852              0.033755   \n",
       "\n",
       "   months_since_last_claim  months_since_policy_inception  \\\n",
       "0                 0.028571                       0.494949   \n",
       "1                 0.200000                       0.101010   \n",
       "2                 0.085714                       0.383838   \n",
       "3                 0.085714                       0.272727   \n",
       "4                 0.514286                       0.141414   \n",
       "5                 0.228571                       0.040404   \n",
       "6                 0.828571                       0.525253   \n",
       "7                 0.228571                       0.171717   \n",
       "8                 0.000000                       0.474747   \n",
       "9                 0.257143                       0.272727   \n",
       "\n",
       "   number_of_open_complaints  number_of_policies  \n",
       "0                        0.0               0.000  \n",
       "1                        0.0               0.375  \n",
       "2                        0.0               0.000  \n",
       "3                        0.2               0.500  \n",
       "4                        0.0               0.125  \n",
       "5                        0.0               0.125  \n",
       "6                        0.0               0.875  \n",
       "7                        0.4               1.000  \n",
       "8                        0.6               1.000  \n",
       "9                        0.0               0.500  "
      ]
     },
     "execution_count": 44,
     "metadata": {},
     "output_type": "execute_result"
    }
   ],
   "source": [
    "# MinMax on X_test set\n",
    "X_test_norm = scaler.transform(X_test_minmax)\n",
    "X_test_scaled = pd.DataFrame(X_test_norm, columns= X_test_minmax.columns)\n",
    "X_test_scaled = X_test_scaled.reset_index(drop=True)\n",
    "X_test_scaled.head(10)"
   ]
  },
  {
   "cell_type": "markdown",
   "id": "868284c3",
   "metadata": {},
   "source": [
    "Now we're going to drop the unscaled columns, reset the index and concatenate the new data frames to the respective X_train and X_test."
   ]
  },
  {
   "cell_type": "code",
   "execution_count": 45,
   "id": "bec30594",
   "metadata": {},
   "outputs": [],
   "source": [
    "X_train = X_train.drop(['customer_lifetime_value','income','monthly_premium_auto',\n",
    "                        'months_since_last_claim','months_since_policy_inception',\n",
    "                        'number_of_open_complaints','number_of_policies'], \n",
    "                       axis=1).reset_index(drop=True)\n",
    "\n",
    "X_test = X_test.drop(['customer_lifetime_value','income','monthly_premium_auto',\n",
    "                        'months_since_last_claim','months_since_policy_inception',\n",
    "                        'number_of_open_complaints','number_of_policies'], \n",
    "                       axis=1).reset_index(drop=True)"
   ]
  },
  {
   "cell_type": "code",
   "execution_count": 46,
   "id": "a395b7f2",
   "metadata": {},
   "outputs": [
    {
     "name": "stdout",
     "output_type": "stream",
     "text": [
      "Shape of train set fully scaled: (7307, 35)\n",
      "Shape of train set fully scaled: (1827, 35)\n"
     ]
    },
    {
     "data": {
      "text/html": [
       "<div>\n",
       "<style scoped>\n",
       "    .dataframe tbody tr th:only-of-type {\n",
       "        vertical-align: middle;\n",
       "    }\n",
       "\n",
       "    .dataframe tbody tr th {\n",
       "        vertical-align: top;\n",
       "    }\n",
       "\n",
       "    .dataframe thead th {\n",
       "        text-align: right;\n",
       "    }\n",
       "</style>\n",
       "<table border=\"1\" class=\"dataframe\">\n",
       "  <thead>\n",
       "    <tr style=\"text-align: right;\">\n",
       "      <th></th>\n",
       "      <th>min</th>\n",
       "      <th>max</th>\n",
       "    </tr>\n",
       "  </thead>\n",
       "  <tbody>\n",
       "    <tr>\n",
       "      <th>coverage</th>\n",
       "      <td>0.0</td>\n",
       "      <td>1.0</td>\n",
       "    </tr>\n",
       "    <tr>\n",
       "      <th>education</th>\n",
       "      <td>0.0</td>\n",
       "      <td>1.0</td>\n",
       "    </tr>\n",
       "    <tr>\n",
       "      <th>employment_status</th>\n",
       "      <td>0.0</td>\n",
       "      <td>1.0</td>\n",
       "    </tr>\n",
       "    <tr>\n",
       "      <th>location_code</th>\n",
       "      <td>0.0</td>\n",
       "      <td>1.0</td>\n",
       "    </tr>\n",
       "    <tr>\n",
       "      <th>vehicle_class</th>\n",
       "      <td>0.0</td>\n",
       "      <td>1.0</td>\n",
       "    </tr>\n",
       "    <tr>\n",
       "      <th>vehicle_size</th>\n",
       "      <td>0.0</td>\n",
       "      <td>1.0</td>\n",
       "    </tr>\n",
       "    <tr>\n",
       "      <th>state_California</th>\n",
       "      <td>0.0</td>\n",
       "      <td>1.0</td>\n",
       "    </tr>\n",
       "    <tr>\n",
       "      <th>state_Nevada</th>\n",
       "      <td>0.0</td>\n",
       "      <td>1.0</td>\n",
       "    </tr>\n",
       "    <tr>\n",
       "      <th>state_Oregon</th>\n",
       "      <td>0.0</td>\n",
       "      <td>1.0</td>\n",
       "    </tr>\n",
       "    <tr>\n",
       "      <th>state_Washington</th>\n",
       "      <td>0.0</td>\n",
       "      <td>1.0</td>\n",
       "    </tr>\n",
       "    <tr>\n",
       "      <th>response_Yes</th>\n",
       "      <td>0.0</td>\n",
       "      <td>1.0</td>\n",
       "    </tr>\n",
       "    <tr>\n",
       "      <th>gender_M</th>\n",
       "      <td>0.0</td>\n",
       "      <td>1.0</td>\n",
       "    </tr>\n",
       "    <tr>\n",
       "      <th>marital_status_Married</th>\n",
       "      <td>0.0</td>\n",
       "      <td>1.0</td>\n",
       "    </tr>\n",
       "    <tr>\n",
       "      <th>marital_status_Single</th>\n",
       "      <td>0.0</td>\n",
       "      <td>1.0</td>\n",
       "    </tr>\n",
       "    <tr>\n",
       "      <th>policy_Corporate L2</th>\n",
       "      <td>0.0</td>\n",
       "      <td>1.0</td>\n",
       "    </tr>\n",
       "    <tr>\n",
       "      <th>policy_Corporate L3</th>\n",
       "      <td>0.0</td>\n",
       "      <td>1.0</td>\n",
       "    </tr>\n",
       "    <tr>\n",
       "      <th>policy_Personal L1</th>\n",
       "      <td>0.0</td>\n",
       "      <td>1.0</td>\n",
       "    </tr>\n",
       "    <tr>\n",
       "      <th>policy_Personal L2</th>\n",
       "      <td>0.0</td>\n",
       "      <td>1.0</td>\n",
       "    </tr>\n",
       "    <tr>\n",
       "      <th>policy_Personal L3</th>\n",
       "      <td>0.0</td>\n",
       "      <td>1.0</td>\n",
       "    </tr>\n",
       "    <tr>\n",
       "      <th>policy_Special L1</th>\n",
       "      <td>0.0</td>\n",
       "      <td>1.0</td>\n",
       "    </tr>\n",
       "    <tr>\n",
       "      <th>policy_Special L2</th>\n",
       "      <td>0.0</td>\n",
       "      <td>1.0</td>\n",
       "    </tr>\n",
       "    <tr>\n",
       "      <th>policy_Special L3</th>\n",
       "      <td>0.0</td>\n",
       "      <td>1.0</td>\n",
       "    </tr>\n",
       "    <tr>\n",
       "      <th>renew_offer_type_Offer2</th>\n",
       "      <td>0.0</td>\n",
       "      <td>1.0</td>\n",
       "    </tr>\n",
       "    <tr>\n",
       "      <th>renew_offer_type_Offer3</th>\n",
       "      <td>0.0</td>\n",
       "      <td>1.0</td>\n",
       "    </tr>\n",
       "    <tr>\n",
       "      <th>renew_offer_type_Offer4</th>\n",
       "      <td>0.0</td>\n",
       "      <td>1.0</td>\n",
       "    </tr>\n",
       "    <tr>\n",
       "      <th>sales_channel_Branch</th>\n",
       "      <td>0.0</td>\n",
       "      <td>1.0</td>\n",
       "    </tr>\n",
       "    <tr>\n",
       "      <th>sales_channel_Call Center</th>\n",
       "      <td>0.0</td>\n",
       "      <td>1.0</td>\n",
       "    </tr>\n",
       "    <tr>\n",
       "      <th>sales_channel_Web</th>\n",
       "      <td>0.0</td>\n",
       "      <td>1.0</td>\n",
       "    </tr>\n",
       "    <tr>\n",
       "      <th>customer_lifetime_value</th>\n",
       "      <td>0.0</td>\n",
       "      <td>1.0</td>\n",
       "    </tr>\n",
       "    <tr>\n",
       "      <th>income</th>\n",
       "      <td>0.0</td>\n",
       "      <td>1.0</td>\n",
       "    </tr>\n",
       "    <tr>\n",
       "      <th>monthly_premium_auto</th>\n",
       "      <td>0.0</td>\n",
       "      <td>1.0</td>\n",
       "    </tr>\n",
       "    <tr>\n",
       "      <th>months_since_last_claim</th>\n",
       "      <td>0.0</td>\n",
       "      <td>1.0</td>\n",
       "    </tr>\n",
       "    <tr>\n",
       "      <th>months_since_policy_inception</th>\n",
       "      <td>0.0</td>\n",
       "      <td>1.0</td>\n",
       "    </tr>\n",
       "    <tr>\n",
       "      <th>number_of_open_complaints</th>\n",
       "      <td>0.0</td>\n",
       "      <td>1.0</td>\n",
       "    </tr>\n",
       "    <tr>\n",
       "      <th>number_of_policies</th>\n",
       "      <td>0.0</td>\n",
       "      <td>1.0</td>\n",
       "    </tr>\n",
       "  </tbody>\n",
       "</table>\n",
       "</div>"
      ],
      "text/plain": [
       "                               min  max\n",
       "coverage                       0.0  1.0\n",
       "education                      0.0  1.0\n",
       "employment_status              0.0  1.0\n",
       "location_code                  0.0  1.0\n",
       "vehicle_class                  0.0  1.0\n",
       "vehicle_size                   0.0  1.0\n",
       "state_California               0.0  1.0\n",
       "state_Nevada                   0.0  1.0\n",
       "state_Oregon                   0.0  1.0\n",
       "state_Washington               0.0  1.0\n",
       "response_Yes                   0.0  1.0\n",
       "gender_M                       0.0  1.0\n",
       "marital_status_Married         0.0  1.0\n",
       "marital_status_Single          0.0  1.0\n",
       "policy_Corporate L2            0.0  1.0\n",
       "policy_Corporate L3            0.0  1.0\n",
       "policy_Personal L1             0.0  1.0\n",
       "policy_Personal L2             0.0  1.0\n",
       "policy_Personal L3             0.0  1.0\n",
       "policy_Special L1              0.0  1.0\n",
       "policy_Special L2              0.0  1.0\n",
       "policy_Special L3              0.0  1.0\n",
       "renew_offer_type_Offer2        0.0  1.0\n",
       "renew_offer_type_Offer3        0.0  1.0\n",
       "renew_offer_type_Offer4        0.0  1.0\n",
       "sales_channel_Branch           0.0  1.0\n",
       "sales_channel_Call Center      0.0  1.0\n",
       "sales_channel_Web              0.0  1.0\n",
       "customer_lifetime_value        0.0  1.0\n",
       "income                         0.0  1.0\n",
       "monthly_premium_auto           0.0  1.0\n",
       "months_since_last_claim        0.0  1.0\n",
       "months_since_policy_inception  0.0  1.0\n",
       "number_of_open_complaints      0.0  1.0\n",
       "number_of_policies             0.0  1.0"
      ]
     },
     "metadata": {},
     "output_type": "display_data"
    },
    {
     "data": {
      "text/html": [
       "<div>\n",
       "<style scoped>\n",
       "    .dataframe tbody tr th:only-of-type {\n",
       "        vertical-align: middle;\n",
       "    }\n",
       "\n",
       "    .dataframe tbody tr th {\n",
       "        vertical-align: top;\n",
       "    }\n",
       "\n",
       "    .dataframe thead th {\n",
       "        text-align: right;\n",
       "    }\n",
       "</style>\n",
       "<table border=\"1\" class=\"dataframe\">\n",
       "  <thead>\n",
       "    <tr style=\"text-align: right;\">\n",
       "      <th></th>\n",
       "      <th>min</th>\n",
       "      <th>max</th>\n",
       "    </tr>\n",
       "  </thead>\n",
       "  <tbody>\n",
       "    <tr>\n",
       "      <th>coverage</th>\n",
       "      <td>0.000000</td>\n",
       "      <td>1.000000</td>\n",
       "    </tr>\n",
       "    <tr>\n",
       "      <th>education</th>\n",
       "      <td>0.000000</td>\n",
       "      <td>1.000000</td>\n",
       "    </tr>\n",
       "    <tr>\n",
       "      <th>employment_status</th>\n",
       "      <td>0.000000</td>\n",
       "      <td>1.000000</td>\n",
       "    </tr>\n",
       "    <tr>\n",
       "      <th>location_code</th>\n",
       "      <td>0.000000</td>\n",
       "      <td>1.000000</td>\n",
       "    </tr>\n",
       "    <tr>\n",
       "      <th>vehicle_class</th>\n",
       "      <td>0.000000</td>\n",
       "      <td>1.000000</td>\n",
       "    </tr>\n",
       "    <tr>\n",
       "      <th>vehicle_size</th>\n",
       "      <td>0.000000</td>\n",
       "      <td>1.000000</td>\n",
       "    </tr>\n",
       "    <tr>\n",
       "      <th>state_California</th>\n",
       "      <td>0.000000</td>\n",
       "      <td>1.000000</td>\n",
       "    </tr>\n",
       "    <tr>\n",
       "      <th>state_Nevada</th>\n",
       "      <td>0.000000</td>\n",
       "      <td>1.000000</td>\n",
       "    </tr>\n",
       "    <tr>\n",
       "      <th>state_Oregon</th>\n",
       "      <td>0.000000</td>\n",
       "      <td>1.000000</td>\n",
       "    </tr>\n",
       "    <tr>\n",
       "      <th>state_Washington</th>\n",
       "      <td>0.000000</td>\n",
       "      <td>1.000000</td>\n",
       "    </tr>\n",
       "    <tr>\n",
       "      <th>response_Yes</th>\n",
       "      <td>0.000000</td>\n",
       "      <td>1.000000</td>\n",
       "    </tr>\n",
       "    <tr>\n",
       "      <th>gender_M</th>\n",
       "      <td>0.000000</td>\n",
       "      <td>1.000000</td>\n",
       "    </tr>\n",
       "    <tr>\n",
       "      <th>marital_status_Married</th>\n",
       "      <td>0.000000</td>\n",
       "      <td>1.000000</td>\n",
       "    </tr>\n",
       "    <tr>\n",
       "      <th>marital_status_Single</th>\n",
       "      <td>0.000000</td>\n",
       "      <td>1.000000</td>\n",
       "    </tr>\n",
       "    <tr>\n",
       "      <th>policy_Corporate L2</th>\n",
       "      <td>0.000000</td>\n",
       "      <td>1.000000</td>\n",
       "    </tr>\n",
       "    <tr>\n",
       "      <th>policy_Corporate L3</th>\n",
       "      <td>0.000000</td>\n",
       "      <td>1.000000</td>\n",
       "    </tr>\n",
       "    <tr>\n",
       "      <th>policy_Personal L1</th>\n",
       "      <td>0.000000</td>\n",
       "      <td>1.000000</td>\n",
       "    </tr>\n",
       "    <tr>\n",
       "      <th>policy_Personal L2</th>\n",
       "      <td>0.000000</td>\n",
       "      <td>1.000000</td>\n",
       "    </tr>\n",
       "    <tr>\n",
       "      <th>policy_Personal L3</th>\n",
       "      <td>0.000000</td>\n",
       "      <td>1.000000</td>\n",
       "    </tr>\n",
       "    <tr>\n",
       "      <th>policy_Special L1</th>\n",
       "      <td>0.000000</td>\n",
       "      <td>1.000000</td>\n",
       "    </tr>\n",
       "    <tr>\n",
       "      <th>policy_Special L2</th>\n",
       "      <td>0.000000</td>\n",
       "      <td>1.000000</td>\n",
       "    </tr>\n",
       "    <tr>\n",
       "      <th>policy_Special L3</th>\n",
       "      <td>0.000000</td>\n",
       "      <td>1.000000</td>\n",
       "    </tr>\n",
       "    <tr>\n",
       "      <th>renew_offer_type_Offer2</th>\n",
       "      <td>0.000000</td>\n",
       "      <td>1.000000</td>\n",
       "    </tr>\n",
       "    <tr>\n",
       "      <th>renew_offer_type_Offer3</th>\n",
       "      <td>0.000000</td>\n",
       "      <td>1.000000</td>\n",
       "    </tr>\n",
       "    <tr>\n",
       "      <th>renew_offer_type_Offer4</th>\n",
       "      <td>0.000000</td>\n",
       "      <td>1.000000</td>\n",
       "    </tr>\n",
       "    <tr>\n",
       "      <th>sales_channel_Branch</th>\n",
       "      <td>0.000000</td>\n",
       "      <td>1.000000</td>\n",
       "    </tr>\n",
       "    <tr>\n",
       "      <th>sales_channel_Call Center</th>\n",
       "      <td>0.000000</td>\n",
       "      <td>1.000000</td>\n",
       "    </tr>\n",
       "    <tr>\n",
       "      <th>sales_channel_Web</th>\n",
       "      <td>0.000000</td>\n",
       "      <td>1.000000</td>\n",
       "    </tr>\n",
       "    <tr>\n",
       "      <th>customer_lifetime_value</th>\n",
       "      <td>0.000008</td>\n",
       "      <td>0.875970</td>\n",
       "    </tr>\n",
       "    <tr>\n",
       "      <th>income</th>\n",
       "      <td>0.000000</td>\n",
       "      <td>0.999790</td>\n",
       "    </tr>\n",
       "    <tr>\n",
       "      <th>monthly_premium_auto</th>\n",
       "      <td>0.000000</td>\n",
       "      <td>0.953586</td>\n",
       "    </tr>\n",
       "    <tr>\n",
       "      <th>months_since_last_claim</th>\n",
       "      <td>0.000000</td>\n",
       "      <td>1.000000</td>\n",
       "    </tr>\n",
       "    <tr>\n",
       "      <th>months_since_policy_inception</th>\n",
       "      <td>0.000000</td>\n",
       "      <td>1.000000</td>\n",
       "    </tr>\n",
       "    <tr>\n",
       "      <th>number_of_open_complaints</th>\n",
       "      <td>0.000000</td>\n",
       "      <td>1.000000</td>\n",
       "    </tr>\n",
       "    <tr>\n",
       "      <th>number_of_policies</th>\n",
       "      <td>0.000000</td>\n",
       "      <td>1.000000</td>\n",
       "    </tr>\n",
       "  </tbody>\n",
       "</table>\n",
       "</div>"
      ],
      "text/plain": [
       "                                    min       max\n",
       "coverage                       0.000000  1.000000\n",
       "education                      0.000000  1.000000\n",
       "employment_status              0.000000  1.000000\n",
       "location_code                  0.000000  1.000000\n",
       "vehicle_class                  0.000000  1.000000\n",
       "vehicle_size                   0.000000  1.000000\n",
       "state_California               0.000000  1.000000\n",
       "state_Nevada                   0.000000  1.000000\n",
       "state_Oregon                   0.000000  1.000000\n",
       "state_Washington               0.000000  1.000000\n",
       "response_Yes                   0.000000  1.000000\n",
       "gender_M                       0.000000  1.000000\n",
       "marital_status_Married         0.000000  1.000000\n",
       "marital_status_Single          0.000000  1.000000\n",
       "policy_Corporate L2            0.000000  1.000000\n",
       "policy_Corporate L3            0.000000  1.000000\n",
       "policy_Personal L1             0.000000  1.000000\n",
       "policy_Personal L2             0.000000  1.000000\n",
       "policy_Personal L3             0.000000  1.000000\n",
       "policy_Special L1              0.000000  1.000000\n",
       "policy_Special L2              0.000000  1.000000\n",
       "policy_Special L3              0.000000  1.000000\n",
       "renew_offer_type_Offer2        0.000000  1.000000\n",
       "renew_offer_type_Offer3        0.000000  1.000000\n",
       "renew_offer_type_Offer4        0.000000  1.000000\n",
       "sales_channel_Branch           0.000000  1.000000\n",
       "sales_channel_Call Center      0.000000  1.000000\n",
       "sales_channel_Web              0.000000  1.000000\n",
       "customer_lifetime_value        0.000008  0.875970\n",
       "income                         0.000000  0.999790\n",
       "monthly_premium_auto           0.000000  0.953586\n",
       "months_since_last_claim        0.000000  1.000000\n",
       "months_since_policy_inception  0.000000  1.000000\n",
       "number_of_open_complaints      0.000000  1.000000\n",
       "number_of_policies             0.000000  1.000000"
      ]
     },
     "metadata": {},
     "output_type": "display_data"
    }
   ],
   "source": [
    "X_train_fully_scaled = pd.concat([X_train, X_train_scaled], axis=1)\n",
    "X_test_fully_scaled = pd.concat([X_test, X_test_scaled], axis=1)\n",
    "print('Shape of train set fully scaled:', X_train_fully_scaled.shape)\n",
    "print('Shape of train set fully scaled:', X_test_fully_scaled.shape)\n",
    "\n",
    "#Checking if MinMax worked\n",
    "display(X_train_fully_scaled.describe().T[['min','max']])\n",
    "display(X_test_fully_scaled.describe().T[['min','max']])"
   ]
  },
  {
   "cell_type": "markdown",
   "id": "76a9399d",
   "metadata": {},
   "source": [
    "#### Encode the categorical variables (See the hint below for encoding categorical data!!!)"
   ]
  },
  {
   "cell_type": "markdown",
   "id": "16ae5b5e",
   "metadata": {},
   "source": [
    "Already done on previous lab."
   ]
  },
  {
   "cell_type": "markdown",
   "id": "bad80e64",
   "metadata": {},
   "source": [
    "#### The time variable can be useful. Try to transform its data into a useful one. Hint: Day week and month as integers might be useful."
   ]
  },
  {
   "cell_type": "code",
   "execution_count": 47,
   "id": "ec3a45d1",
   "metadata": {},
   "outputs": [
    {
     "data": {
      "image/png": "[encoded data removed]",
      "text/plain": [
       "<Figure size 1080x576 with 1 Axes>"
      ]
     },
     "metadata": {},
     "output_type": "display_data"
    }
   ],
   "source": [
    "# Recovering effective_to_date column\n",
    "sns.set(rc={'figure.figsize':(15,8)})\n",
    "sns.lineplot(x=\"effective_to_date\", y=\"total_claim_amount\", data = customer_df)\n",
    "plt.show()"
   ]
  },
  {
   "cell_type": "markdown",
   "id": "f3a8b468",
   "metadata": {},
   "source": [
    "I don't see anything weird. Let's go unit per unit."
   ]
  },
  {
   "cell_type": "code",
   "execution_count": 48,
   "id": "91fe8920",
   "metadata": {},
   "outputs": [
    {
     "data": {
      "text/plain": [
       "27    361\n",
       "10    356\n",
       "26    350\n",
       "19    347\n",
       "14    338\n",
       "3     336\n",
       "28    330\n",
       "5     325\n",
       "11    317\n",
       "17    316\n",
       "2     309\n",
       "7     308\n",
       "21    308\n",
       "20    305\n",
       "18    303\n",
       "1     302\n",
       "25    300\n",
       "23    298\n",
       "22    294\n",
       "6     287\n",
       "24    286\n",
       "13    284\n",
       "15    283\n",
       "8     283\n",
       "9     283\n",
       "12    282\n",
       "16    281\n",
       "4     279\n",
       "31    178\n",
       "29    160\n",
       "30    145\n",
       "Name: effective_to_date, dtype: int64"
      ]
     },
     "execution_count": 48,
     "metadata": {},
     "output_type": "execute_result"
    }
   ],
   "source": [
    "days = customer_df['effective_to_date'].dt.day\n",
    "days.value_counts()"
   ]
  },
  {
   "cell_type": "code",
   "execution_count": 49,
   "id": "39271e25",
   "metadata": {},
   "outputs": [
    {
     "name": "stderr",
     "output_type": "stream",
     "text": [
      "C:\\Users\\ameli\\AppData\\Local\\Temp\\ipykernel_9716\\3859484927.py:1: FutureWarning: Series.dt.weekofyear and Series.dt.week have been deprecated. Please use Series.dt.isocalendar().week instead.\n",
      "  weeks = customer_df['effective_to_date'].dt.week\n"
     ]
    },
    {
     "data": {
      "text/plain": [
       "4     1147\n",
       "3     1137\n",
       "5     1105\n",
       "2     1079\n",
       "8     1073\n",
       "1     1049\n",
       "7     1040\n",
       "6     1035\n",
       "52     308\n",
       "9      161\n",
       "Name: effective_to_date, dtype: int64"
      ]
     },
     "execution_count": 49,
     "metadata": {},
     "output_type": "execute_result"
    }
   ],
   "source": [
    "weeks = customer_df['effective_to_date'].dt.week\n",
    "weeks.value_counts()"
   ]
  },
  {
   "cell_type": "markdown",
   "id": "eea00db0",
   "metadata": {},
   "source": [
    "Something strange happened, weeks jump from 9 to 52. Let's check these rows."
   ]
  },
  {
   "cell_type": "code",
   "execution_count": 50,
   "id": "6941fe5c",
   "metadata": {},
   "outputs": [
    {
     "data": {
      "text/plain": [
       "52   2011-02-21\n",
       "52   2011-02-21\n",
       "52   2011-02-21\n",
       "52   2011-02-21\n",
       "52   2011-02-21\n",
       "        ...    \n",
       "52   2011-02-21\n",
       "52   2011-02-21\n",
       "52   2011-02-21\n",
       "52   2011-02-21\n",
       "52   2011-02-21\n",
       "Name: effective_to_date, Length: 308, dtype: datetime64[ns]"
      ]
     },
     "execution_count": 50,
     "metadata": {},
     "output_type": "execute_result"
    }
   ],
   "source": [
    "customer_df['effective_to_date'].loc[customer_df['effective_to_date'].dt.isocalendar().week[customer_df['effective_to_date'].dt.isocalendar().week == 52]]"
   ]
  },
  {
   "cell_type": "markdown",
   "id": "d2a6dd83",
   "metadata": {},
   "source": [
    "It looks like data is pointing to week 2."
   ]
  },
  {
   "cell_type": "code",
   "execution_count": 51,
   "id": "99a01e27",
   "metadata": {},
   "outputs": [
    {
     "data": {
      "text/plain": [
       "2   2011-02-19\n",
       "2   2011-02-19\n",
       "2   2011-02-19\n",
       "2   2011-02-19\n",
       "2   2011-02-19\n",
       "       ...    \n",
       "2   2011-02-19\n",
       "2   2011-02-19\n",
       "2   2011-02-19\n",
       "2   2011-02-19\n",
       "2   2011-02-19\n",
       "Name: effective_to_date, Length: 1079, dtype: datetime64[ns]"
      ]
     },
     "execution_count": 51,
     "metadata": {},
     "output_type": "execute_result"
    }
   ],
   "source": [
    "customer_df['effective_to_date'].loc[customer_df['effective_to_date'].\n",
    "                                     dt.isocalendar().week[customer_df['effective_to_date'].\n",
    "                                                           dt.isocalendar().week == 2]]"
   ]
  },
  {
   "cell_type": "markdown",
   "id": "e90920b9",
   "metadata": {},
   "source": [
    "#### Since the model will only accept numerical data, check and make sure that every column is numerical, if some are not, change it using encoding."
   ]
  },
  {
   "cell_type": "code",
   "execution_count": 52,
   "id": "a1ff287b",
   "metadata": {},
   "outputs": [
    {
     "data": {
      "text/plain": [
       "coverage                         float64\n",
       "education                        float64\n",
       "employment_status                float64\n",
       "location_code                    float64\n",
       "vehicle_class                    float64\n",
       "vehicle_size                     float64\n",
       "state_California                 float64\n",
       "state_Nevada                     float64\n",
       "state_Oregon                     float64\n",
       "state_Washington                 float64\n",
       "response_Yes                     float64\n",
       "gender_M                         float64\n",
       "marital_status_Married           float64\n",
       "marital_status_Single            float64\n",
       "policy_Corporate L2              float64\n",
       "policy_Corporate L3              float64\n",
       "policy_Personal L1               float64\n",
       "policy_Personal L2               float64\n",
       "policy_Personal L3               float64\n",
       "policy_Special L1                float64\n",
       "policy_Special L2                float64\n",
       "policy_Special L3                float64\n",
       "renew_offer_type_Offer2          float64\n",
       "renew_offer_type_Offer3          float64\n",
       "renew_offer_type_Offer4          float64\n",
       "sales_channel_Branch             float64\n",
       "sales_channel_Call Center        float64\n",
       "sales_channel_Web                float64\n",
       "customer_lifetime_value          float64\n",
       "income                           float64\n",
       "monthly_premium_auto             float64\n",
       "months_since_last_claim          float64\n",
       "months_since_policy_inception    float64\n",
       "number_of_open_complaints        float64\n",
       "number_of_policies               float64\n",
       "dtype: object"
      ]
     },
     "execution_count": 52,
     "metadata": {},
     "output_type": "execute_result"
    }
   ],
   "source": [
    "X_train_fully_scaled.dtypes"
   ]
  },
  {
   "cell_type": "code",
   "execution_count": 53,
   "id": "ca27db8e",
   "metadata": {},
   "outputs": [
    {
     "data": {
      "text/plain": [
       "coverage                         float64\n",
       "education                        float64\n",
       "employment_status                float64\n",
       "location_code                    float64\n",
       "vehicle_class                    float64\n",
       "vehicle_size                     float64\n",
       "state_California                 float64\n",
       "state_Nevada                     float64\n",
       "state_Oregon                     float64\n",
       "state_Washington                 float64\n",
       "response_Yes                     float64\n",
       "gender_M                         float64\n",
       "marital_status_Married           float64\n",
       "marital_status_Single            float64\n",
       "policy_Corporate L2              float64\n",
       "policy_Corporate L3              float64\n",
       "policy_Personal L1               float64\n",
       "policy_Personal L2               float64\n",
       "policy_Personal L3               float64\n",
       "policy_Special L1                float64\n",
       "policy_Special L2                float64\n",
       "policy_Special L3                float64\n",
       "renew_offer_type_Offer2          float64\n",
       "renew_offer_type_Offer3          float64\n",
       "renew_offer_type_Offer4          float64\n",
       "sales_channel_Branch             float64\n",
       "sales_channel_Call Center        float64\n",
       "sales_channel_Web                float64\n",
       "customer_lifetime_value          float64\n",
       "income                           float64\n",
       "monthly_premium_auto             float64\n",
       "months_since_last_claim          float64\n",
       "months_since_policy_inception    float64\n",
       "number_of_open_complaints        float64\n",
       "number_of_policies               float64\n",
       "dtype: object"
      ]
     },
     "execution_count": 53,
     "metadata": {},
     "output_type": "execute_result"
    }
   ],
   "source": [
    "X_test_fully_scaled.dtypes"
   ]
  },
  {
   "cell_type": "markdown",
   "id": "c08964b0",
   "metadata": {},
   "source": [
    "#### Try a simple linear regression with all the data to see whether we are getting good results."
   ]
  },
  {
   "cell_type": "code",
   "execution_count": 54,
   "id": "eb3df6d1",
   "metadata": {},
   "outputs": [
    {
     "name": "stdout",
     "output_type": "stream",
     "text": [
      "R2 for our model is: 0.6148343287534581\n"
     ]
    }
   ],
   "source": [
    "from sklearn.linear_model import LinearRegression\n",
    "from sklearn.metrics import r2_score\n",
    "\n",
    "\n",
    "lm = LinearRegression().fit(X_train_fully_scaled, y_train)\n",
    "y_pred_test = lm.predict(X_test_fully_scaled) \n",
    "\n",
    "print('R2 for our model is:', r2_score(y_test, y_pred_test))"
   ]
  },
  {
   "cell_type": "markdown",
   "id": "f1c9480c",
   "metadata": {},
   "source": [
    "#### Great! Now define a function that takes a list of models and train (and tests) them so we can try a lot of them without repeating code."
   ]
  },
  {
   "cell_type": "code",
   "execution_count": 55,
   "id": "0a649af4",
   "metadata": {},
   "outputs": [
    {
     "name": "stdout",
     "output_type": "stream",
     "text": [
      "LinearRegression: Train -> 0.628208823789469, Test -> 0.6148343287534581\n",
      "KNeighborsRegressor: Train -> 0.47514909203593747, Test -> 0.40201141177790856\n",
      "MLPRegressor: Train -> 0.6550985280991285, Test -> 0.632926763336285\n"
     ]
    }
   ],
   "source": [
    "from sklearn.neighbors import KNeighborsRegressor\n",
    "from sklearn.neural_network import MLPRegressor\n",
    "\n",
    "models_lst = [LinearRegression(), KNeighborsRegressor(n_neighbors = 14), MLPRegressor(solver= 'sgd')]\n",
    "\n",
    "def models_automation(models_list, X_tr, y_tr, X_te, y_te):\n",
    "    for model in models_list:\n",
    "            model.fit(X_tr, y_tr)\n",
    "            print(f\"{model.__class__.__name__}: Train -> {model.score(X_tr, y_tr)}, Test -> {model.score(X_te, y_te)}\")\n",
    "\n",
    "models_automation(models_lst, X_train_fully_scaled, y_train, X_test_fully_scaled, y_test)"
   ]
  },
  {
   "cell_type": "markdown",
   "id": "4a0d1ec4",
   "metadata": {},
   "source": [
    "As it can be seen, LinearRegression gives us the best results on the test set (by the way, we have concluded that the best number of neighbors for the KNN model is 14 by trial and error)."
   ]
  },
  {
   "cell_type": "markdown",
   "id": "11096a0a",
   "metadata": {},
   "source": [
    "## Feature Extraction"
   ]
  },
  {
   "cell_type": "markdown",
   "id": "f789b81d",
   "metadata": {},
   "source": [
    "Open the categoricals variable we created before. Open the categoricals variable we created before. What can you see?"
   ]
  },
  {
   "cell_type": "code",
   "execution_count": 56,
   "id": "5150d618",
   "metadata": {},
   "outputs": [],
   "source": [
    "categorical_to_plot = customer_df.select_dtypes(include=object)\n",
    "categorical_to_plot = categorical_to_plot.drop('customer', axis=1)"
   ]
  },
  {
   "cell_type": "code",
   "execution_count": 57,
   "id": "9633360b",
   "metadata": {},
   "outputs": [
    {
     "data": {
      "image/png": "[encoded data removed]",
      "text/plain": [
       "<Figure size 1080x576 with 1 Axes>"
      ]
     },
     "metadata": {},
     "output_type": "display_data"
    },
    {
     "data": {
      "image/png": "[encoded data removed]",
      "text/plain": [
       "<Figure size 1080x576 with 1 Axes>"
      ]
     },
     "metadata": {},
     "output_type": "display_data"
    },
    {
     "data": {
      "image/png": "[encoded data removed]",
      "text/plain": [
       "<Figure size 1080x576 with 1 Axes>"
      ]
     },
     "metadata": {},
     "output_type": "display_data"
    },
    {
     "data": {
      "image/png": "[encoded data removed]",
      "text/plain": [
       "<Figure size 1080x576 with 1 Axes>"
      ]
     },
     "metadata": {},
     "output_type": "display_data"
    },
    {
     "data": {
      "image/png": "[encoded data removed]",
      "text/plain": [
       "<Figure size 1080x576 with 1 Axes>"
      ]
     },
     "metadata": {},
     "output_type": "display_data"
    },
    {
     "data": {
      "image/png": "[encoded data removed]",
      "text/plain": [
       "<Figure size 1080x576 with 1 Axes>"
      ]
     },
     "metadata": {},
     "output_type": "display_data"
    },
    {
     "data": {
      "image/png": "[encoded data removed]",
      "text/plain": [
       "<Figure size 1080x576 with 1 Axes>"
      ]
     },
     "metadata": {},
     "output_type": "display_data"
    },
    {
     "data": {
      "image/png": "[encoded data removed]",
      "text/plain": [
       "<Figure size 1080x576 with 1 Axes>"
      ]
     },
     "metadata": {},
     "output_type": "display_data"
    },
    {
     "data": {
      "image/png": "[encoded data removed]",
      "text/plain": [
       "<Figure size 1080x576 with 1 Axes>"
      ]
     },
     "metadata": {},
     "output_type": "display_data"
    },
    {
     "data": {
      "image/png": "[encoded data removed]",
      "text/plain": [
       "<Figure size 1080x576 with 1 Axes>"
      ]
     },
     "metadata": {},
     "output_type": "display_data"
    },
    {
     "data": {
      "image/png": "[encoded data removed]",
      "text/plain": [
       "<Figure size 1080x576 with 1 Axes>"
      ]
     },
     "metadata": {},
     "output_type": "display_data"
    },
    {
     "data": {
      "image/png": "[encoded data removed]",
      "text/plain": [
       "<Figure size 1080x576 with 1 Axes>"
      ]
     },
     "metadata": {},
     "output_type": "display_data"
    },
    {
     "data": {
      "image/png": "[encoded data removed]",
      "text/plain": [
       "<Figure size 1080x576 with 1 Axes>"
      ]
     },
     "metadata": {},
     "output_type": "display_data"
    },
    {
     "data": {
      "image/png": "[encoded data removed]",
      "text/plain": [
       "<Figure size 1080x576 with 1 Axes>"
      ]
     },
     "metadata": {},
     "output_type": "display_data"
    }
   ],
   "source": [
    "for col in categorical_to_plot:\n",
    "    sns.countplot(x=categorical_to_plot[col])\n",
    "    plt.show()"
   ]
  },
  {
   "cell_type": "markdown",
   "id": "6ed1bdc9",
   "metadata": {},
   "source": [
    "With a huge class imbalance in most of the columns, we could reduce the number of categories for each column and combine them (already done in previous labs). Also, there are some redundant data."
   ]
  },
  {
   "cell_type": "markdown",
   "id": "6f76fb1c",
   "metadata": {},
   "source": [
    "#### There might be some columns that seem to be redundant, check their values to be sure. What should we do with them?"
   ]
  },
  {
   "cell_type": "code",
   "execution_count": 58,
   "id": "70e48059",
   "metadata": {},
   "outputs": [
    {
     "name": "stdout",
     "output_type": "stream",
     "text": [
      "Unique values of policy column: ['Corporate L3' 'Personal L3' 'Corporate L2' 'Personal L1' 'Special L2'\n",
      " 'Corporate L1' 'Personal L2' 'Special L1' 'Special L3']\n",
      "Unique values of policy_type column: ['Corporate Auto' 'Personal Auto' 'Special Auto']\n"
     ]
    }
   ],
   "source": [
    "# As done previously, we can drop policy_type.\n",
    "print('Unique values of policy column:', categorical_to_plot['policy'].unique())\n",
    "print('Unique values of policy_type column:', categorical_to_plot['policy_type'].unique())"
   ]
  },
  {
   "cell_type": "markdown",
   "id": "55d995f1",
   "metadata": {},
   "source": [
    "#### Plot time variable. Can you extract something from it?\n"
   ]
  },
  {
   "cell_type": "code",
   "execution_count": 59,
   "id": "eec3dce2",
   "metadata": {},
   "outputs": [
    {
     "data": {
      "image/png": "[encoded data removed]",
      "text/plain": [
       "<Figure size 1080x576 with 1 Axes>"
      ]
     },
     "metadata": {},
     "output_type": "display_data"
    }
   ],
   "source": [
    "sns.countplot(x = customer_df['effective_to_date'])\n",
    "plt.show()"
   ]
  },
  {
   "cell_type": "markdown",
   "id": "1d6552c8",
   "metadata": {},
   "source": [
    "Everything looks ok. Let's take a closer look."
   ]
  },
  {
   "cell_type": "code",
   "execution_count": 60,
   "id": "9483c0ea",
   "metadata": {},
   "outputs": [
    {
     "data": {
      "image/png": "[encoded data removed]",
      "text/plain": [
       "<Figure size 1080x576 with 1 Axes>"
      ]
     },
     "metadata": {},
     "output_type": "display_data"
    }
   ],
   "source": [
    "sns.countplot(x = customer_df['effective_to_date'].dt.month)\n",
    "plt.show()"
   ]
  },
  {
   "cell_type": "code",
   "execution_count": 61,
   "id": "6906e809",
   "metadata": {},
   "outputs": [
    {
     "data": {
      "image/png": "[encoded data removed]",
      "text/plain": [
       "<Figure size 1080x576 with 1 Axes>"
      ]
     },
     "metadata": {},
     "output_type": "display_data"
    }
   ],
   "source": [
    "sns.countplot(x = customer_df['effective_to_date'].dt.isocalendar().week)\n",
    "plt.show()"
   ]
  },
  {
   "cell_type": "code",
   "execution_count": 62,
   "id": "a34926d3",
   "metadata": {},
   "outputs": [
    {
     "data": {
      "image/png": "[encoded data removed]",
      "text/plain": [
       "<Figure size 1080x576 with 1 Axes>"
      ]
     },
     "metadata": {},
     "output_type": "display_data"
    }
   ],
   "source": [
    "sns.countplot(x = customer_df['effective_to_date'].dt.isocalendar().day)\n",
    "plt.show()"
   ]
  },
  {
   "cell_type": "code",
   "execution_count": 63,
   "id": "d7c9b093",
   "metadata": {},
   "outputs": [
    {
     "name": "stderr",
     "output_type": "stream",
     "text": [
      "C:\\Users\\ameli\\AppData\\Local\\Temp\\ipykernel_9716\\4106378772.py:1: FutureWarning: Series.dt.weekofyear and Series.dt.week have been deprecated. Please use Series.dt.isocalendar().week instead.\n",
      "  sns.lineplot(x = customer_df['effective_to_date'].dt.week, y = customer_df['total_claim_amount'])\n"
     ]
    },
    {
     "data": {
      "image/png": "[encoded data removed]",
      "text/plain": [
       "<Figure size 1080x576 with 1 Axes>"
      ]
     },
     "metadata": {},
     "output_type": "display_data"
    }
   ],
   "source": [
    "sns.lineplot(x = customer_df['effective_to_date'].dt.week, y = customer_df['total_claim_amount'])\n",
    "plt.show()"
   ]
  },
  {
   "cell_type": "markdown",
   "id": "f76c20ae",
   "metadata": {},
   "source": [
    "As seen before, there is a week wrong (week 52). Let's correct this error and plot the relationship between both variables again."
   ]
  },
  {
   "cell_type": "code",
   "execution_count": 64,
   "id": "4dcea7da",
   "metadata": {},
   "outputs": [
    {
     "data": {
      "text/plain": [
       "47     2011-01-02\n",
       "60     2011-01-02\n",
       "87     2011-01-01\n",
       "133    2011-01-02\n",
       "205    2011-01-02\n",
       "          ...    \n",
       "9041   2011-01-02\n",
       "9063   2011-01-01\n",
       "9085   2011-01-01\n",
       "9091   2011-01-02\n",
       "9103   2011-01-01\n",
       "Name: effective_to_date, Length: 308, dtype: datetime64[ns]"
      ]
     },
     "execution_count": 64,
     "metadata": {},
     "output_type": "execute_result"
    }
   ],
   "source": [
    "customer_df['effective_to_date'].loc[customer_df['effective_to_date'].dt.isocalendar().week == 52]"
   ]
  },
  {
   "cell_type": "code",
   "execution_count": 65,
   "id": "bfb19c4c",
   "metadata": {},
   "outputs": [
    {
     "data": {
      "text/plain": [
       "11     2011-01-06\n",
       "17     2011-01-05\n",
       "36     2011-01-08\n",
       "69     2011-01-09\n",
       "106    2011-01-04\n",
       "          ...    \n",
       "9090   2011-01-07\n",
       "9104   2011-01-09\n",
       "9113   2011-01-06\n",
       "9126   2011-01-09\n",
       "9128   2011-01-06\n",
       "Name: effective_to_date, Length: 1049, dtype: datetime64[ns]"
      ]
     },
     "execution_count": 65,
     "metadata": {},
     "output_type": "execute_result"
    }
   ],
   "source": [
    "customer_df['effective_to_date'].loc[customer_df['effective_to_date'].dt.isocalendar().week == 1]"
   ]
  },
  {
   "cell_type": "markdown",
   "id": "b966433b",
   "metadata": {},
   "source": [
    "It looks like column 52 is, in fact, column 0. "
   ]
  },
  {
   "cell_type": "code",
   "execution_count": 66,
   "id": "0aea1f35",
   "metadata": {},
   "outputs": [
    {
     "name": "stderr",
     "output_type": "stream",
     "text": [
      "C:\\Users\\ameli\\AppData\\Local\\Temp\\ipykernel_9716\\2593680285.py:2: FutureWarning: Series.dt.weekofyear and Series.dt.week have been deprecated. Please use Series.dt.isocalendar().week instead.\n",
      "  time_df['month'] = customer_df['effective_to_date'].dt.week\n",
      "C:\\Users\\ameli\\AppData\\Local\\Temp\\ipykernel_9716\\2593680285.py:2: SettingWithCopyWarning: \n",
      "A value is trying to be set on a copy of a slice from a DataFrame.\n",
      "Try using .loc[row_indexer,col_indexer] = value instead\n",
      "\n",
      "See the caveats in the documentation: https://pandas.pydata.org/pandas-docs/stable/user_guide/indexing.html#returning-a-view-versus-a-copy\n",
      "  time_df['month'] = customer_df['effective_to_date'].dt.week\n",
      "C:\\Users\\ameli\\AppData\\Local\\Temp\\ipykernel_9716\\2593680285.py:4: SettingWithCopyWarning: \n",
      "A value is trying to be set on a copy of a slice from a DataFrame.\n",
      "Try using .loc[row_indexer,col_indexer] = value instead\n",
      "\n",
      "See the caveats in the documentation: https://pandas.pydata.org/pandas-docs/stable/user_guide/indexing.html#returning-a-view-versus-a-copy\n",
      "  time_df['month'] = time_df['month'].apply(lambda x: 0 if x == 52 else x)\n"
     ]
    },
    {
     "data": {
      "image/png": "[encoded data removed]",
      "text/plain": [
       "<Figure size 1080x576 with 1 Axes>"
      ]
     },
     "metadata": {},
     "output_type": "display_data"
    }
   ],
   "source": [
    "time_df = customer_df[['effective_to_date', 'total_claim_amount']]\n",
    "time_df['month'] = customer_df['effective_to_date'].dt.week\n",
    "\n",
    "time_df['month'] = time_df['month'].apply(lambda x: 0 if x == 52 else x)\n",
    "sns.lineplot(x = time_df['month'], y = customer_df['total_claim_amount'])\n",
    "plt.show()"
   ]
  }
 ],
 "metadata": {
  "kernelspec": {
   "display_name": "Python 3 (ipykernel)",
   "language": "python",
   "name": "python3"
  },
  "language_info": {
   "codemirror_mode": {
    "name": "ipython",
    "version": 3
   },
   "file_extension": ".py",
   "mimetype": "text/x-python",
   "name": "python",
   "nbconvert_exporter": "python",
   "pygments_lexer": "ipython3",
   "version": "3.9.12"
  }
 },
 "nbformat": 4,
 "nbformat_minor": 5
}
